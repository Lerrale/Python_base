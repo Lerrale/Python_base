{
 "cells": [
  {
   "cell_type": "markdown",
   "id": "d0b5ebb1",
   "metadata": {},
   "source": [
    " ## Описание таблиц"
   ]
  },
  {
   "cell_type": "markdown",
   "id": "cc924d43",
   "metadata": {},
   "source": [
    "`TRAIN.CSV:`\n",
    "\n",
    "Это основная таблица, которая связывает студента с вопросом или лекцией, с которыми он взаимодействует, а также дополнительная информация\n",
    "об этом взаимодействии. Список колонок и краткое их описание:\n",
    "\n",
    "* row_id: (int64) порядковый номер строки в этой таблице.\n",
    "* timestamp: (int64) время в миллисекундах между текущим взаимодействием и первым событием связанным с данным ученика.\n",
    "* user_id: (int32) идентификационный код ученика.\n",
    "* content_id: (int16) идентификационный код вопроса или лекции.\n",
    "* content_type_id: (int8) 0 если это вопрос, 1 если лекция.\n",
    "11\n",
    "* task_container_id: (int16) идентификационный код группы вопросов, в которой задан текущий вопрос.\n",
    "* user_answer: (int8) вариант ответа, который выбрал ученик. Всего вариантов может быть 4. В случае если взаимодействие - это лекция, а не вопрос, то данное поле равно -1.\n",
    "* answered_correctly: (int8) правильно ли ученик ответил на вопрос. В случае, если взаимодействие - это лекция, а не вопрос, то данное поле равно -1. Данное поле нужно будет предсказывать.\n",
    "* prior_question_elapsed_time: (float32) среднее время в миллисекундах, которое ученику потребовалось, чтобы ответить на все вопросы в предыдущей группе, игнорируя любые лекции между ними. Равен 0 для первой группы вопросов, заданной ученику.\n",
    "* prior_question_had_explanation: (bool) смотрел ли ученик объяснение и правильный ответ на предыдущий вопрос. Значение равно null, если ученик отвечает на первый вопрос\n",
    "\n",
    "`QUESTIONS.CSV:`\n",
    "\n",
    "Таблица описывающая вопрос. Количество вопросов в отличии от количества учеников заранее зафиксировано, также задания повторно предлагаются\n",
    "различным ученикам. Список колонок:\n",
    "\n",
    "* question_id: внешний ключ(foreign key) для связывание данной информации с таблицей train.\n",
    "* bundle_id: код по которому вопросы объединяются в группы.\n",
    "* correct_answer: правильный ответ на вопрос.\n",
    "* part: один из семи типов вопросов TOEIC. Ниже будет краткое описание каждого\n",
    "* tags: один или несколько кодов с тэгами для данного вопроса. Описание тэгов не представлено, но самих кодов достаточно для того, чтобы\n",
    "сделать кластеризацию.\n",
    "\n",
    "`LECTIONS.CSV`\n",
    "\n",
    "Данная таблица аналогична таблице про вопросы, но она про лекции,\n",
    "перейдем к ее описанию:\n",
    "\n",
    "* lecture_id: внешний ключ(foreign key) для связывание данной информации с таблицей train.\n",
    "* type_of: краткое описание основной цели лекции.\n",
    "* part: один из семи типов, который был в таблице с вопросами.\n",
    "* tag: один тэг в качестве числа, который представляет лекцию, его значение не дано, также как и в вопросах.\n"
   ]
  },
  {
   "cell_type": "markdown",
   "id": "6a0c3c64",
   "metadata": {},
   "source": [
    "## 1. Таблица Train\n"
   ]
  },
  {
   "cell_type": "code",
   "execution_count": 45,
   "id": "3e3487c8",
   "metadata": {},
   "outputs": [],
   "source": [
    "import pandas as pd\n",
    "import numpy as np"
   ]
  },
  {
   "cell_type": "code",
   "execution_count": 3,
   "id": "9378c1be",
   "metadata": {},
   "outputs": [],
   "source": [
    "# Загрузим данные из файла\n",
    "# Поскольку объем данных слишком большой для обработки, ограничимся 10000000 строк\n",
    "# Сразу преобразуем некоторые типы данных\n",
    "train_0 = pd.read_csv('data/train.csv', sep=',', index_col=0, nrows=10000000,\n",
    "                       dtype = {'row_id': 'int64', 'timestamp': 'int64', 'user_id': 'int32', 'content_id': 'int16', \n",
    "                                'content_type_id': 'int8', 'task_container_id': 'int16', 'user_answer': 'int8', \n",
    "                                'answered_correctly': 'int8', 'prior_question_elapsed_time': 'float32', \n",
    "                                'prior_question_had_explanation': 'boolean'\n",
    "                               }\n",
    "                      )"
   ]
  },
  {
   "cell_type": "code",
   "execution_count": 4,
   "id": "ad4cda1a",
   "metadata": {},
   "outputs": [],
   "source": [
    "# Для удобства созданим копию изначального DataFrame\n",
    "train = train_0.copy()"
   ]
  },
  {
   "cell_type": "code",
   "execution_count": null,
   "id": "4b66224b",
   "metadata": {},
   "outputs": [],
   "source": [
    "# Столбец 'row_id' является индексом и для анализа данных нам не понадобится\n",
    "train.drop('row_id', axis=1, inplace=True)"
   ]
  },
  {
   "cell_type": "code",
   "execution_count": 5,
   "id": "320ebdfd",
   "metadata": {},
   "outputs": [
    {
     "data": {
      "text/html": [
       "<div>\n",
       "<style scoped>\n",
       "    .dataframe tbody tr th:only-of-type {\n",
       "        vertical-align: middle;\n",
       "    }\n",
       "\n",
       "    .dataframe tbody tr th {\n",
       "        vertical-align: top;\n",
       "    }\n",
       "\n",
       "    .dataframe thead th {\n",
       "        text-align: right;\n",
       "    }\n",
       "</style>\n",
       "<table border=\"1\" class=\"dataframe\">\n",
       "  <thead>\n",
       "    <tr style=\"text-align: right;\">\n",
       "      <th></th>\n",
       "      <th>timestamp</th>\n",
       "      <th>user_id</th>\n",
       "      <th>content_id</th>\n",
       "      <th>content_type_id</th>\n",
       "      <th>task_container_id</th>\n",
       "      <th>user_answer</th>\n",
       "      <th>answered_correctly</th>\n",
       "      <th>prior_question_elapsed_time</th>\n",
       "      <th>prior_question_had_explanation</th>\n",
       "    </tr>\n",
       "    <tr>\n",
       "      <th>row_id</th>\n",
       "      <th></th>\n",
       "      <th></th>\n",
       "      <th></th>\n",
       "      <th></th>\n",
       "      <th></th>\n",
       "      <th></th>\n",
       "      <th></th>\n",
       "      <th></th>\n",
       "      <th></th>\n",
       "    </tr>\n",
       "  </thead>\n",
       "  <tbody>\n",
       "    <tr>\n",
       "      <th>0</th>\n",
       "      <td>0</td>\n",
       "      <td>115</td>\n",
       "      <td>5692</td>\n",
       "      <td>0</td>\n",
       "      <td>1</td>\n",
       "      <td>3</td>\n",
       "      <td>1</td>\n",
       "      <td>NaN</td>\n",
       "      <td>&lt;NA&gt;</td>\n",
       "    </tr>\n",
       "    <tr>\n",
       "      <th>1</th>\n",
       "      <td>56943</td>\n",
       "      <td>115</td>\n",
       "      <td>5716</td>\n",
       "      <td>0</td>\n",
       "      <td>2</td>\n",
       "      <td>2</td>\n",
       "      <td>1</td>\n",
       "      <td>37000.0</td>\n",
       "      <td>False</td>\n",
       "    </tr>\n",
       "    <tr>\n",
       "      <th>2</th>\n",
       "      <td>118363</td>\n",
       "      <td>115</td>\n",
       "      <td>128</td>\n",
       "      <td>0</td>\n",
       "      <td>0</td>\n",
       "      <td>0</td>\n",
       "      <td>1</td>\n",
       "      <td>55000.0</td>\n",
       "      <td>False</td>\n",
       "    </tr>\n",
       "    <tr>\n",
       "      <th>3</th>\n",
       "      <td>131167</td>\n",
       "      <td>115</td>\n",
       "      <td>7860</td>\n",
       "      <td>0</td>\n",
       "      <td>3</td>\n",
       "      <td>0</td>\n",
       "      <td>1</td>\n",
       "      <td>19000.0</td>\n",
       "      <td>False</td>\n",
       "    </tr>\n",
       "    <tr>\n",
       "      <th>4</th>\n",
       "      <td>137965</td>\n",
       "      <td>115</td>\n",
       "      <td>7922</td>\n",
       "      <td>0</td>\n",
       "      <td>4</td>\n",
       "      <td>1</td>\n",
       "      <td>1</td>\n",
       "      <td>11000.0</td>\n",
       "      <td>False</td>\n",
       "    </tr>\n",
       "  </tbody>\n",
       "</table>\n",
       "</div>"
      ],
      "text/plain": [
       "        timestamp  user_id  content_id  content_type_id  task_container_id  \\\n",
       "row_id                                                                       \n",
       "0               0      115        5692                0                  1   \n",
       "1           56943      115        5716                0                  2   \n",
       "2          118363      115         128                0                  0   \n",
       "3          131167      115        7860                0                  3   \n",
       "4          137965      115        7922                0                  4   \n",
       "\n",
       "        user_answer  answered_correctly  prior_question_elapsed_time  \\\n",
       "row_id                                                                 \n",
       "0                 3                   1                          NaN   \n",
       "1                 2                   1                      37000.0   \n",
       "2                 0                   1                      55000.0   \n",
       "3                 0                   1                      19000.0   \n",
       "4                 1                   1                      11000.0   \n",
       "\n",
       "        prior_question_had_explanation  \n",
       "row_id                                  \n",
       "0                                 <NA>  \n",
       "1                                False  \n",
       "2                                False  \n",
       "3                                False  \n",
       "4                                False  "
      ]
     },
     "execution_count": 5,
     "metadata": {},
     "output_type": "execute_result"
    }
   ],
   "source": [
    "train.head()"
   ]
  },
  {
   "cell_type": "code",
   "execution_count": 6,
   "id": "cd651176",
   "metadata": {
    "scrolled": true
   },
   "outputs": [
    {
     "name": "stdout",
     "output_type": "stream",
     "text": [
      "<class 'pandas.core.frame.DataFrame'>\n",
      "Int64Index: 10000000 entries, 0 to 9999999\n",
      "Data columns (total 9 columns):\n",
      " #   Column                          Dtype  \n",
      "---  ------                          -----  \n",
      " 0   timestamp                       int64  \n",
      " 1   user_id                         int32  \n",
      " 2   content_id                      int16  \n",
      " 3   content_type_id                 int8   \n",
      " 4   task_container_id               int16  \n",
      " 5   user_answer                     int8   \n",
      " 6   answered_correctly              int8   \n",
      " 7   prior_question_elapsed_time     float32\n",
      " 8   prior_question_had_explanation  boolean\n",
      "dtypes: boolean(1), float32(1), int16(2), int32(1), int64(1), int8(3)\n",
      "memory usage: 314.7 MB\n"
     ]
    }
   ],
   "source": [
    "# Проверим информацию по столбцам таблицы\n",
    "#  Видим, что информация о количестве уникальных значений не отобраилась, видимо, из за большого объема информации\n",
    "train.info()"
   ]
  },
  {
   "cell_type": "code",
   "execution_count": 8,
   "id": "799f2dd9",
   "metadata": {
    "scrolled": true
   },
   "outputs": [
    {
     "name": "stdout",
     "output_type": "stream",
     "text": [
      "0 timestamp: 10000000 non-null\n",
      "1 user_id: 10000000 non-null\n",
      "2 content_id: 10000000 non-null\n",
      "3 content_type_id: 10000000 non-null\n",
      "4 task_container_id: 10000000 non-null\n",
      "5 user_answer: 10000000 non-null\n",
      "6 answered_correctly: 10000000 non-null\n",
      "7 prior_question_elapsed_time: 9765216 non-null\n",
      "\tprior_question_elapsed_time: 234784 is NaN\n",
      "8 prior_question_had_explanation: 9960612 non-null\n",
      "\tprior_question_had_explanation: 39388 is NaN\n"
     ]
    }
   ],
   "source": [
    "# Выыедем информацию о количесве значений\n",
    "\n",
    "for i, column in enumerate(train.columns):\n",
    "    print(f'{i} {column}: {train.shape[0] - train[column].isna().sum()} non-null')\n",
    "    if train[column].isna().sum() > 0:\n",
    "        print(f'\\t{column}: {train[column].isna().sum()} is NaN')\n",
    "        \n",
    "# Столбец 'prior_question_elapsed_time' содержит 1_161_187 пустых значений NaN (для первого набора вопросов или лекций)\n",
    "# Столбец 'prior_question_had_explanation' имеет 192_960 пустых значений NaN (для первого набора вопросов или лекций)\n",
    "# Пустые значения NaN можно заменить, например, на среднее значение признаков в данной категории, либо,\n",
    "# если датасет большой, а пустых значений немного, можно просто ими пренебречь        "
   ]
  },
  {
   "cell_type": "code",
   "execution_count": 10,
   "id": "a298c609",
   "metadata": {},
   "outputs": [
    {
     "data": {
      "text/html": [
       "<div>\n",
       "<style scoped>\n",
       "    .dataframe tbody tr th:only-of-type {\n",
       "        vertical-align: middle;\n",
       "    }\n",
       "\n",
       "    .dataframe tbody tr th {\n",
       "        vertical-align: top;\n",
       "    }\n",
       "\n",
       "    .dataframe thead th {\n",
       "        text-align: right;\n",
       "    }\n",
       "</style>\n",
       "<table border=\"1\" class=\"dataframe\">\n",
       "  <thead>\n",
       "    <tr style=\"text-align: right;\">\n",
       "      <th></th>\n",
       "      <th>timestamp</th>\n",
       "      <th>user_id</th>\n",
       "      <th>content_id</th>\n",
       "      <th>content_type_id</th>\n",
       "      <th>task_container_id</th>\n",
       "      <th>user_answer</th>\n",
       "      <th>answered_correctly</th>\n",
       "      <th>prior_question_elapsed_time</th>\n",
       "    </tr>\n",
       "  </thead>\n",
       "  <tbody>\n",
       "    <tr>\n",
       "      <th>count</th>\n",
       "      <td>1.000000e+07</td>\n",
       "      <td>1.000000e+07</td>\n",
       "      <td>1.000000e+07</td>\n",
       "      <td>1.000000e+07</td>\n",
       "      <td>1.000000e+07</td>\n",
       "      <td>1.000000e+07</td>\n",
       "      <td>1.000000e+07</td>\n",
       "      <td>9.765216e+06</td>\n",
       "    </tr>\n",
       "    <tr>\n",
       "      <th>mean</th>\n",
       "      <td>7.546528e+09</td>\n",
       "      <td>1.079943e+08</td>\n",
       "      <td>5.209509e+03</td>\n",
       "      <td>1.953960e-02</td>\n",
       "      <td>8.776194e+02</td>\n",
       "      <td>1.376462e+00</td>\n",
       "      <td>6.262029e-01</td>\n",
       "      <td>2.547560e+04</td>\n",
       "    </tr>\n",
       "    <tr>\n",
       "      <th>std</th>\n",
       "      <td>1.141381e+10</td>\n",
       "      <td>6.311024e+07</td>\n",
       "      <td>3.867783e+03</td>\n",
       "      <td>1.384117e-01</td>\n",
       "      <td>1.334407e+03</td>\n",
       "      <td>1.193603e+00</td>\n",
       "      <td>5.226395e-01</td>\n",
       "      <td>1.995033e+04</td>\n",
       "    </tr>\n",
       "    <tr>\n",
       "      <th>min</th>\n",
       "      <td>0.000000e+00</td>\n",
       "      <td>1.150000e+02</td>\n",
       "      <td>0.000000e+00</td>\n",
       "      <td>0.000000e+00</td>\n",
       "      <td>0.000000e+00</td>\n",
       "      <td>-1.000000e+00</td>\n",
       "      <td>-1.000000e+00</td>\n",
       "      <td>0.000000e+00</td>\n",
       "    </tr>\n",
       "    <tr>\n",
       "      <th>25%</th>\n",
       "      <td>5.109600e+08</td>\n",
       "      <td>5.398177e+07</td>\n",
       "      <td>2.059000e+03</td>\n",
       "      <td>0.000000e+00</td>\n",
       "      <td>1.020000e+02</td>\n",
       "      <td>0.000000e+00</td>\n",
       "      <td>0.000000e+00</td>\n",
       "      <td>1.600000e+04</td>\n",
       "    </tr>\n",
       "    <tr>\n",
       "      <th>50%</th>\n",
       "      <td>2.612310e+09</td>\n",
       "      <td>1.067638e+08</td>\n",
       "      <td>5.016000e+03</td>\n",
       "      <td>0.000000e+00</td>\n",
       "      <td>3.710000e+02</td>\n",
       "      <td>1.000000e+00</td>\n",
       "      <td>1.000000e+00</td>\n",
       "      <td>2.100000e+04</td>\n",
       "    </tr>\n",
       "    <tr>\n",
       "      <th>75%</th>\n",
       "      <td>9.751909e+09</td>\n",
       "      <td>1.630735e+08</td>\n",
       "      <td>7.402000e+03</td>\n",
       "      <td>0.000000e+00</td>\n",
       "      <td>1.055000e+03</td>\n",
       "      <td>3.000000e+00</td>\n",
       "      <td>1.000000e+00</td>\n",
       "      <td>2.966600e+04</td>\n",
       "    </tr>\n",
       "    <tr>\n",
       "      <th>max</th>\n",
       "      <td>8.470816e+10</td>\n",
       "      <td>2.167479e+08</td>\n",
       "      <td>3.273600e+04</td>\n",
       "      <td>1.000000e+00</td>\n",
       "      <td>9.999000e+03</td>\n",
       "      <td>3.000000e+00</td>\n",
       "      <td>1.000000e+00</td>\n",
       "      <td>3.000000e+05</td>\n",
       "    </tr>\n",
       "  </tbody>\n",
       "</table>\n",
       "</div>"
      ],
      "text/plain": [
       "          timestamp       user_id    content_id  content_type_id  \\\n",
       "count  1.000000e+07  1.000000e+07  1.000000e+07     1.000000e+07   \n",
       "mean   7.546528e+09  1.079943e+08  5.209509e+03     1.953960e-02   \n",
       "std    1.141381e+10  6.311024e+07  3.867783e+03     1.384117e-01   \n",
       "min    0.000000e+00  1.150000e+02  0.000000e+00     0.000000e+00   \n",
       "25%    5.109600e+08  5.398177e+07  2.059000e+03     0.000000e+00   \n",
       "50%    2.612310e+09  1.067638e+08  5.016000e+03     0.000000e+00   \n",
       "75%    9.751909e+09  1.630735e+08  7.402000e+03     0.000000e+00   \n",
       "max    8.470816e+10  2.167479e+08  3.273600e+04     1.000000e+00   \n",
       "\n",
       "       task_container_id   user_answer  answered_correctly  \\\n",
       "count       1.000000e+07  1.000000e+07        1.000000e+07   \n",
       "mean        8.776194e+02  1.376462e+00        6.262029e-01   \n",
       "std         1.334407e+03  1.193603e+00        5.226395e-01   \n",
       "min         0.000000e+00 -1.000000e+00       -1.000000e+00   \n",
       "25%         1.020000e+02  0.000000e+00        0.000000e+00   \n",
       "50%         3.710000e+02  1.000000e+00        1.000000e+00   \n",
       "75%         1.055000e+03  3.000000e+00        1.000000e+00   \n",
       "max         9.999000e+03  3.000000e+00        1.000000e+00   \n",
       "\n",
       "       prior_question_elapsed_time  \n",
       "count                 9.765216e+06  \n",
       "mean                  2.547560e+04  \n",
       "std                   1.995033e+04  \n",
       "min                   0.000000e+00  \n",
       "25%                   1.600000e+04  \n",
       "50%                   2.100000e+04  \n",
       "75%                   2.966600e+04  \n",
       "max                   3.000000e+05  "
      ]
     },
     "execution_count": 10,
     "metadata": {},
     "output_type": "execute_result"
    }
   ],
   "source": [
    "# Описательная статистика таблицы 'train'\n",
    "# Среднее время ответа около 25 секунд, а максимальное - 5 минут\n",
    "train.describe()"
   ]
  },
  {
   "cell_type": "code",
   "execution_count": 6,
   "id": "2c296d54",
   "metadata": {},
   "outputs": [
    {
     "data": {
      "text/html": [
       "<div>\n",
       "<style scoped>\n",
       "    .dataframe tbody tr th:only-of-type {\n",
       "        vertical-align: middle;\n",
       "    }\n",
       "\n",
       "    .dataframe tbody tr th {\n",
       "        vertical-align: top;\n",
       "    }\n",
       "\n",
       "    .dataframe thead th {\n",
       "        text-align: right;\n",
       "    }\n",
       "</style>\n",
       "<table border=\"1\" class=\"dataframe\">\n",
       "  <thead>\n",
       "    <tr style=\"text-align: right;\">\n",
       "      <th></th>\n",
       "      <th>Column_Name</th>\n",
       "      <th>Num_Unique</th>\n",
       "      <th>Type</th>\n",
       "    </tr>\n",
       "  </thead>\n",
       "  <tbody>\n",
       "    <tr>\n",
       "      <th>0</th>\n",
       "      <td>content_type_id</td>\n",
       "      <td>2</td>\n",
       "      <td>int8</td>\n",
       "    </tr>\n",
       "    <tr>\n",
       "      <th>1</th>\n",
       "      <td>prior_question_had_explanation</td>\n",
       "      <td>2</td>\n",
       "      <td>boolean</td>\n",
       "    </tr>\n",
       "    <tr>\n",
       "      <th>2</th>\n",
       "      <td>answered_correctly</td>\n",
       "      <td>3</td>\n",
       "      <td>int8</td>\n",
       "    </tr>\n",
       "    <tr>\n",
       "      <th>3</th>\n",
       "      <td>user_answer</td>\n",
       "      <td>5</td>\n",
       "      <td>int8</td>\n",
       "    </tr>\n",
       "    <tr>\n",
       "      <th>4</th>\n",
       "      <td>prior_question_elapsed_time</td>\n",
       "      <td>2583</td>\n",
       "      <td>float32</td>\n",
       "    </tr>\n",
       "    <tr>\n",
       "      <th>5</th>\n",
       "      <td>task_container_id</td>\n",
       "      <td>10000</td>\n",
       "      <td>int16</td>\n",
       "    </tr>\n",
       "    <tr>\n",
       "      <th>6</th>\n",
       "      <td>content_id</td>\n",
       "      <td>13749</td>\n",
       "      <td>int16</td>\n",
       "    </tr>\n",
       "    <tr>\n",
       "      <th>7</th>\n",
       "      <td>user_id</td>\n",
       "      <td>39491</td>\n",
       "      <td>int32</td>\n",
       "    </tr>\n",
       "    <tr>\n",
       "      <th>8</th>\n",
       "      <td>timestamp</td>\n",
       "      <td>7534842</td>\n",
       "      <td>int64</td>\n",
       "    </tr>\n",
       "  </tbody>\n",
       "</table>\n",
       "</div>"
      ],
      "text/plain": [
       "                      Column_Name  Num_Unique     Type\n",
       "0                 content_type_id           2     int8\n",
       "1  prior_question_had_explanation           2  boolean\n",
       "2              answered_correctly           3     int8\n",
       "3                     user_answer           5     int8\n",
       "4     prior_question_elapsed_time        2583  float32\n",
       "5               task_container_id       10000    int16\n",
       "6                      content_id       13749    int16\n",
       "7                         user_id       39491    int32\n",
       "8                       timestamp     7534842    int64"
      ]
     },
     "metadata": {},
     "output_type": "display_data"
    }
   ],
   "source": [
    "# Проверим количесвто уникальных значений для каждой колонки\n",
    "unique_list = []\n",
    "for col in train.columns:\n",
    "    item = (col, train[col].nunique(), train[col].dtype)\n",
    "    unique_list.append(item)\n",
    "unique_counts = pd.DataFrame(unique_list,\n",
    "                             columns=['Column_Name', 'Num_Unique', 'Type']\n",
    "                            ).sort_values(by='Num_Unique',  ignore_index=True)\n",
    "display(unique_counts)"
   ]
  },
  {
   "cell_type": "code",
   "execution_count": 11,
   "id": "5b4888a6",
   "metadata": {
    "scrolled": true
   },
   "outputs": [
    {
     "data": {
      "text/plain": [
       "0    0.98046\n",
       "1    0.01954\n",
       "Name: content_type_id, dtype: float64"
      ]
     },
     "metadata": {},
     "output_type": "display_data"
    }
   ],
   "source": [
    "display(train['content_type_id'].value_counts(normalize=True))\n",
    "# 98% активновти - ответы на вопросы\n",
    "# 2%  активности - лекции"
   ]
  },
  {
   "cell_type": "code",
   "execution_count": 13,
   "id": "b7082f61",
   "metadata": {
    "scrolled": true
   },
   "outputs": [
    {
     "data": {
      "text/plain": [
       "1    0.658612\n",
       "0    0.341388\n",
       "Name: answered_correctly, dtype: float64"
      ]
     },
     "metadata": {},
     "output_type": "display_data"
    },
    {
     "data": {
      "text/plain": [
       "0.6586115053703342"
      ]
     },
     "metadata": {},
     "output_type": "display_data"
    }
   ],
   "source": [
    "display(train[train['answered_correctly'] != -1]['answered_correctly'].value_counts(normalize=True)) \n",
    "display(train[train['answered_correctly'] != -1]['answered_correctly'].mean())\n",
    "\n",
    "# 66% - правильные ответы \n",
    "# 34% - неправильные ответы\n",
    "# 0.658 - средний балл студента"
   ]
  },
  {
   "cell_type": "code",
   "execution_count": 21,
   "id": "18a95119",
   "metadata": {},
   "outputs": [
    {
     "data": {
      "text/plain": [
       "248.27439163353677"
      ]
     },
     "metadata": {},
     "output_type": "display_data"
    },
    {
     "data": {
      "text/plain": [
       "163.51637081866755"
      ]
     },
     "metadata": {},
     "output_type": "display_data"
    },
    {
     "data": {
      "text/plain": [
       "4.947861538071966"
      ]
     },
     "metadata": {},
     "output_type": "display_data"
    },
    {
     "data": {
      "text/plain": [
       "224.24235901851054"
      ]
     },
     "metadata": {},
     "output_type": "display_data"
    },
    {
     "data": {
      "text/plain": [
       "25475.598"
      ]
     },
     "metadata": {},
     "output_type": "display_data"
    },
    {
     "data": {
      "text/plain": [
       "50.18"
      ]
     },
     "metadata": {},
     "output_type": "display_data"
    }
   ],
   "source": [
    "display(train[train['content_type_id'] == 0].shape[0] / train['user_id'].nunique())\n",
    "display(train[train['answered_correctly'] != -1]['answered_correctly'].sum() / train['user_id'].nunique())\n",
    "display(train[train['content_type_id'] == 1].shape[0] / train['user_id'].nunique())\n",
    "display(train['prior_question_had_explanation'].sum() / train['user_id'].nunique())\n",
    "display(train['prior_question_elapsed_time'].mean())\n",
    "\n",
    "lectures_count = train['content_type_id'].value_counts()[1]\n",
    "questions_count = train['content_type_id'].value_counts()[0]\n",
    "display(round(questions_count / lectures_count, 2))\n",
    "\n",
    "\n",
    "# Cреднее число отвеченных вопросов: 248\n",
    "# Среднее кол-во правильных ответов: 163\n",
    "# Среднее число просмотренных лекций: 5\n",
    "# Среднее число виденных объяснений: 224\n",
    "# Среднее время, затрачиваемое на вопрос: 25475\n",
    "# Среднее количество вопросов, приходящихся на одну лекцию - 50.18"
   ]
  },
  {
   "cell_type": "code",
   "execution_count": 20,
   "id": "63a9fc3d",
   "metadata": {
    "scrolled": true
   },
   "outputs": [
    {
     "data": {
      "text/html": [
       "<div>\n",
       "<style scoped>\n",
       "    .dataframe tbody tr th:only-of-type {\n",
       "        vertical-align: middle;\n",
       "    }\n",
       "\n",
       "    .dataframe tbody tr th {\n",
       "        vertical-align: top;\n",
       "    }\n",
       "\n",
       "    .dataframe thead th {\n",
       "        text-align: right;\n",
       "    }\n",
       "</style>\n",
       "<table border=\"1\" class=\"dataframe\">\n",
       "  <thead>\n",
       "    <tr style=\"text-align: right;\">\n",
       "      <th></th>\n",
       "      <th>timestamp</th>\n",
       "      <th>prior_questions_time</th>\n",
       "      <th>had_explanation</th>\n",
       "    </tr>\n",
       "    <tr>\n",
       "      <th>answered_correctly</th>\n",
       "      <th></th>\n",
       "      <th></th>\n",
       "      <th></th>\n",
       "    </tr>\n",
       "  </thead>\n",
       "  <tbody>\n",
       "    <tr>\n",
       "      <th>0</th>\n",
       "      <td>7.046183e+09</td>\n",
       "      <td>25704.230469</td>\n",
       "      <td>2880081</td>\n",
       "    </tr>\n",
       "    <tr>\n",
       "      <th>1</th>\n",
       "      <td>7.801606e+09</td>\n",
       "      <td>25357.033203</td>\n",
       "      <td>5975474</td>\n",
       "    </tr>\n",
       "  </tbody>\n",
       "</table>\n",
       "</div>"
      ],
      "text/plain": [
       "                       timestamp  prior_questions_time  had_explanation\n",
       "answered_correctly                                                     \n",
       "0                   7.046183e+09          25704.230469          2880081\n",
       "1                   7.801606e+09          25357.033203          5975474"
      ]
     },
     "execution_count": 20,
     "metadata": {},
     "output_type": "execute_result"
    }
   ],
   "source": [
    "# Проверим зависимости от времени с начала сессии, среднего времеми ответа студента на вопросы \n",
    "#  и влияет ли на результат то, что судент видел ответ на предыдущее задание\n",
    "\n",
    "pd.DataFrame({'timestamp': train[train['answered_correctly'] != -1]['timestamp'].groupby(train['answered_correctly']).mean(),\n",
    "              'prior_questions_time': train[train['answered_correctly'] != -1]['prior_question_elapsed_time'].groupby(train['answered_correctly']).mean(),\n",
    "              'had_explanation': train[train['answered_correctly'] != -1]['prior_question_had_explanation'].groupby(train['answered_correctly']).sum()\n",
    "             }\n",
    "            )\n",
    "\n",
    "# Выводы:\n",
    "# - чем ближе к началу сессии вопрос, тем менее успешно его проходят студенты \n",
    "# - студенты, тратящие меньше времени на решение, чаще отвечают правильно\n",
    "# - если студент видел объяснение предыдущий задачи, вероятность правильного ответа удваивается"
   ]
  },
  {
   "cell_type": "code",
   "execution_count": 42,
   "id": "146f6134",
   "metadata": {
    "scrolled": true
   },
   "outputs": [
    {
     "name": "stdout",
     "output_type": "stream",
     "text": [
      "Среднее время ответа на вопрос: 25475.598\n"
     ]
    },
    {
     "data": {
      "text/plain": [
       "1    0.844297\n",
       "0    0.155703\n",
       "Name: answered_correctly, dtype: float64"
      ]
     },
     "execution_count": 42,
     "metadata": {},
     "output_type": "execute_result"
    }
   ],
   "source": [
    "# Если пользователь думал над вопросом по времени больше среднего значения,\n",
    "# верность данного ответа на вопрос увеличивалась до 84 %\n",
    "avg_time = train['prior_question_elapsed_time'].mean()\n",
    "print('Среднее время ответа на вопрос:', avg_time)\n",
    "train[(train['prior_question_elapsed_time'] > avg_time) &\n",
    "         (train['answered_correctly'] == 0) | \n",
    "         (train['answered_correctly'] == 1)]['answered_correctly'].value_counts(normalize=True)"
   ]
  },
  {
   "cell_type": "code",
   "execution_count": 46,
   "id": "a3eded34",
   "metadata": {
    "scrolled": true
   },
   "outputs": [
    {
     "data": {
      "text/html": [
       "<div>\n",
       "<style scoped>\n",
       "    .dataframe tbody tr th:only-of-type {\n",
       "        vertical-align: middle;\n",
       "    }\n",
       "\n",
       "    .dataframe tbody tr th {\n",
       "        vertical-align: top;\n",
       "    }\n",
       "\n",
       "    .dataframe thead th {\n",
       "        text-align: right;\n",
       "    }\n",
       "</style>\n",
       "<table border=\"1\" class=\"dataframe\">\n",
       "  <thead>\n",
       "    <tr style=\"text-align: right;\">\n",
       "      <th></th>\n",
       "      <th>prior_question_elapsed_time</th>\n",
       "    </tr>\n",
       "    <tr>\n",
       "      <th>content_id</th>\n",
       "      <th></th>\n",
       "    </tr>\n",
       "  </thead>\n",
       "  <tbody>\n",
       "    <tr>\n",
       "      <th>4120</th>\n",
       "      <td>539459200.0</td>\n",
       "    </tr>\n",
       "    <tr>\n",
       "      <th>7216</th>\n",
       "      <td>510579968.0</td>\n",
       "    </tr>\n",
       "    <tr>\n",
       "      <th>7217</th>\n",
       "      <td>510579968.0</td>\n",
       "    </tr>\n",
       "    <tr>\n",
       "      <th>7218</th>\n",
       "      <td>510579968.0</td>\n",
       "    </tr>\n",
       "    <tr>\n",
       "      <th>7219</th>\n",
       "      <td>510579968.0</td>\n",
       "    </tr>\n",
       "  </tbody>\n",
       "</table>\n",
       "</div>"
      ],
      "text/plain": [
       "            prior_question_elapsed_time\n",
       "content_id                             \n",
       "4120                        539459200.0\n",
       "7216                        510579968.0\n",
       "7217                        510579968.0\n",
       "7218                        510579968.0\n",
       "7219                        510579968.0"
      ]
     },
     "execution_count": 46,
     "metadata": {},
     "output_type": "execute_result"
    }
   ],
   "source": [
    "# Вопросы, на которые пользователи потратили больше всего времени в секундах (первые пять в порядке убывания)\n",
    "\n",
    "pd.pivot_table(\n",
    "    train[train['content_type_id'] == 0],\n",
    "    values='prior_question_elapsed_time',\n",
    "    index='content_id',\n",
    "    aggfunc=np.sum\n",
    ").sort_values('prior_question_elapsed_time', ascending=False).head()"
   ]
  },
  {
   "cell_type": "code",
   "execution_count": 48,
   "id": "a8c8504c",
   "metadata": {
    "scrolled": true
   },
   "outputs": [
    {
     "data": {
      "text/plain": [
       "3153     3631\n",
       "21411    2670\n",
       "29695    2431\n",
       "10540    2415\n",
       "15888    2254\n",
       "Name: content_id, dtype: int64"
      ]
     },
     "execution_count": 48,
     "metadata": {},
     "output_type": "execute_result"
    }
   ],
   "source": [
    "# Самые популярные лекции среди пользователей платформы по количеству просмотров (первые пять в порядке убывания)\n",
    "train[train['content_type_id'] == 1]['content_id'].value_counts().head()"
   ]
  },
  {
   "cell_type": "code",
   "execution_count": 50,
   "id": "d8f5e172",
   "metadata": {
    "scrolled": true
   },
   "outputs": [
    {
     "data": {
      "text/plain": [
       "6116    21103\n",
       "6173    20060\n",
       "4120    19826\n",
       "175     19520\n",
       "7876    18886\n",
       "Name: content_id, dtype: int64"
      ]
     },
     "execution_count": 50,
     "metadata": {},
     "output_type": "execute_result"
    }
   ],
   "source": [
    "# Самые популярные вопросы на платформе\n",
    "train[train['content_type_id'] == 0]['content_id'].value_counts().head()"
   ]
  },
  {
   "cell_type": "code",
   "execution_count": 52,
   "id": "0314f2b5",
   "metadata": {
    "scrolled": true
   },
   "outputs": [
    {
     "data": {
      "text/plain": [
       "6116    15163\n",
       "2063    14646\n",
       "4120    14284\n",
       "6173    14107\n",
       "2946    13027\n",
       "Name: content_id, dtype: int64"
      ]
     },
     "execution_count": 52,
     "metadata": {},
     "output_type": "execute_result"
    }
   ],
   "source": [
    "# Самые сложные вопросы на платформе (первые пять в порядке убывания)\n",
    "train[(train['content_type_id'] == 0) & (train['answered_correctly'] == 0)]['content_id'].value_counts().head()"
   ]
  },
  {
   "cell_type": "code",
   "execution_count": 53,
   "id": "0eb641cb",
   "metadata": {
    "scrolled": true
   },
   "outputs": [
    {
     "data": {
      "text/plain": [
       "0    0.718523\n",
       "1    0.281477\n",
       "Name: answered_correctly, dtype: float64"
      ]
     },
     "execution_count": 53,
     "metadata": {},
     "output_type": "execute_result"
    }
   ],
   "source": [
    "# Процент правильных и неправильных ответов на самый сложный вопрос\n",
    "train[(train['content_type_id'] == 0) & (train['content_id'] == 6116)]['answered_correctly'].value_counts(normalize=True)\n",
    "# Неправильных ответов 72%"
   ]
  },
  {
   "cell_type": "code",
   "execution_count": 55,
   "id": "fb837e11",
   "metadata": {},
   "outputs": [
    {
     "data": {
      "text/plain": [
       "1    0.82566\n",
       "0    0.17434\n",
       "Name: answered_correctly, dtype: float64"
      ]
     },
     "execution_count": 55,
     "metadata": {},
     "output_type": "execute_result"
    }
   ],
   "source": [
    "# Более 82 % ответов на самый лёгкий вопрос являются верными \n",
    "train[(train['content_type_id'] == 0) & (train['content_id'] == 7900)]['answered_correctly'].value_counts(normalize=True)"
   ]
  },
  {
   "cell_type": "markdown",
   "id": "619d31e1",
   "metadata": {},
   "source": [
    "## 2. questions\n",
    "Исследуем данные \"Вопросы\"\n",
    "questions.csv\n",
    "\n"
   ]
  },
  {
   "cell_type": "code",
   "execution_count": 34,
   "id": "3bd3f82a",
   "metadata": {},
   "outputs": [
    {
     "name": "stdout",
     "output_type": "stream",
     "text": [
      "<class 'pandas.core.frame.DataFrame'>\n",
      "RangeIndex: 13523 entries, 0 to 13522\n",
      "Data columns (total 5 columns):\n",
      " #   Column          Non-Null Count  Dtype \n",
      "---  ------          --------------  ----- \n",
      " 0   question_id     13523 non-null  int16 \n",
      " 1   bundle_id       13523 non-null  int16 \n",
      " 2   correct_answer  13523 non-null  int8  \n",
      " 3   part            13523 non-null  int8  \n",
      " 4   tags            13522 non-null  object\n",
      "dtypes: int16(2), int8(2), object(1)\n",
      "memory usage: 185.0+ KB\n"
     ]
    }
   ],
   "source": [
    "questions = pd.read_csv('data/questions.csv', sep=',',\n",
    "                        dtype = {'question_id': 'int16', 'bundle_id': 'int16', 'correct_answer': 'int8',\n",
    "                                 'part': 'int8', 'tags': 'object'\n",
    "                               })\n",
    "questions.info()"
   ]
  },
  {
   "cell_type": "code",
   "execution_count": 36,
   "id": "0a99dec0",
   "metadata": {},
   "outputs": [
    {
     "data": {
      "text/html": [
       "<div>\n",
       "<style scoped>\n",
       "    .dataframe tbody tr th:only-of-type {\n",
       "        vertical-align: middle;\n",
       "    }\n",
       "\n",
       "    .dataframe tbody tr th {\n",
       "        vertical-align: top;\n",
       "    }\n",
       "\n",
       "    .dataframe thead th {\n",
       "        text-align: right;\n",
       "    }\n",
       "</style>\n",
       "<table border=\"1\" class=\"dataframe\">\n",
       "  <thead>\n",
       "    <tr style=\"text-align: right;\">\n",
       "      <th></th>\n",
       "      <th>Column_Name</th>\n",
       "      <th>Num_Unique</th>\n",
       "      <th>Type</th>\n",
       "    </tr>\n",
       "  </thead>\n",
       "  <tbody>\n",
       "    <tr>\n",
       "      <th>0</th>\n",
       "      <td>correct_answer</td>\n",
       "      <td>4</td>\n",
       "      <td>int8</td>\n",
       "    </tr>\n",
       "    <tr>\n",
       "      <th>1</th>\n",
       "      <td>part</td>\n",
       "      <td>7</td>\n",
       "      <td>int8</td>\n",
       "    </tr>\n",
       "    <tr>\n",
       "      <th>2</th>\n",
       "      <td>tags</td>\n",
       "      <td>1519</td>\n",
       "      <td>object</td>\n",
       "    </tr>\n",
       "    <tr>\n",
       "      <th>3</th>\n",
       "      <td>bundle_id</td>\n",
       "      <td>9765</td>\n",
       "      <td>int16</td>\n",
       "    </tr>\n",
       "    <tr>\n",
       "      <th>4</th>\n",
       "      <td>question_id</td>\n",
       "      <td>13523</td>\n",
       "      <td>int16</td>\n",
       "    </tr>\n",
       "  </tbody>\n",
       "</table>\n",
       "</div>"
      ],
      "text/plain": [
       "      Column_Name  Num_Unique    Type\n",
       "0  correct_answer           4    int8\n",
       "1            part           7    int8\n",
       "2            tags        1519  object\n",
       "3       bundle_id        9765   int16\n",
       "4     question_id       13523   int16"
      ]
     },
     "metadata": {},
     "output_type": "display_data"
    }
   ],
   "source": [
    "# выведем количество уникальных значений для каждой колонки\n",
    "unique_list_q = []\n",
    "for col in questions.columns:\n",
    "    item = (col, questions[col].nunique(), questions[col].dtype)\n",
    "    unique_list_q.append(item)\n",
    "unique_counts_q = pd.DataFrame(unique_list_q,\n",
    "                               columns=['Column_Name', 'Num_Unique', 'Type']\n",
    "                              ).sort_values(by='Num_Unique',  ignore_index=True)\n",
    "display(unique_counts_q)"
   ]
  },
  {
   "cell_type": "code",
   "execution_count": 37,
   "id": "bfb6424e",
   "metadata": {},
   "outputs": [
    {
     "data": {
      "text/plain": [
       "count     13522\n",
       "unique     1519\n",
       "top           8\n",
       "freq        738\n",
       "Name: tags, dtype: object"
      ]
     },
     "execution_count": 37,
     "metadata": {},
     "output_type": "execute_result"
    }
   ],
   "source": [
    "questions['question_id'].groupby(questions['bundle_id']).count().max()\n",
    "questions['part'].value_counts(normalize=True)\n",
    "questions['tags'].describe()\n",
    "\n",
    "# Часть вопросов объединены по bundle_id в блоки до 5 вопросов, хотя большинство представлены по одиночке\n",
    "# Задачи разделены по темам на 7 разделов, больше всего посвящено 5му разделу, 2, 3 и 4"
   ]
  },
  {
   "cell_type": "code",
   "execution_count": 39,
   "id": "7ed2dd9a",
   "metadata": {},
   "outputs": [],
   "source": [
    "# Создадим единую таблицу c ID с данными Train\n",
    "\n",
    "tmp_df = train.loc[(train.content_type_id == 0), ['content_id', 'answered_correctly']]"
   ]
  },
  {
   "cell_type": "code",
   "execution_count": 40,
   "id": "90a2abc5",
   "metadata": {},
   "outputs": [
    {
     "data": {
      "text/plain": [
       "13500"
      ]
     },
     "execution_count": 40,
     "metadata": {},
     "output_type": "execute_result"
    }
   ],
   "source": [
    "# Столбец question_id:\n",
    "\n",
    "q_list = list(tmp_df['content_id'].unique())\n",
    "len(q_list)\n",
    "\n",
    "# Всего 13500 уникальных вопросов. Мы берем этот список из файла Train, чтобы иметь правильный порядок данных"
   ]
  },
  {
   "cell_type": "code",
   "execution_count": 56,
   "id": "38e9d9d6",
   "metadata": {},
   "outputs": [],
   "source": [
    "# Cтолбцы :\n",
    "# q_quant - общее количество ответов для каждого id\n",
    "# correct_quant - количество правильных ответов для каждого id\n",
    "\n",
    "q_quant = []\n",
    "correct_quant = []\n",
    "for q in q_list:\n",
    "    tmp = tmp_df[tmp_df['content_id'] == q]['answered_correctly'].count()\n",
    "    tmp1 = tmp_df[tmp_df['content_id'] == q]['answered_correctly'].sum()\n",
    "    q_quant.append(tmp)\n",
    "    correct_quant.append(tmp1)"
   ]
  },
  {
   "cell_type": "code",
   "execution_count": 57,
   "id": "b1b5ab10",
   "metadata": {},
   "outputs": [],
   "source": [
    "# Запишем полученные данные в единую таблицу\n",
    "\n",
    "q_ex = pd.DataFrame({'question_id': q_list,\n",
    "                        'q_quant': q_quant,\n",
    "                        'correct_quant': correct_quant\n",
    "                       }\n",
    "                      )\n",
    "q_ex = q_ex.astype({'question_id': 'int16', 'q_quant': 'int32', 'correct_quant': 'int32'})"
   ]
  },
  {
   "cell_type": "code",
   "execution_count": 58,
   "id": "1ac8a5b8",
   "metadata": {},
   "outputs": [],
   "source": [
    "# Внесем полученные данные в таблицу questions (пересечением),\n",
    "# вначале удалив ненужные столбцы\n",
    "\n",
    "questions = questions.drop('correct_answer', axis=1)\n",
    "questions = pd.merge(questions, q_ex, how='inner')"
   ]
  },
  {
   "cell_type": "code",
   "execution_count": 59,
   "id": "dd47dbc5",
   "metadata": {},
   "outputs": [
    {
     "data": {
      "text/html": [
       "<div>\n",
       "<style scoped>\n",
       "    .dataframe tbody tr th:only-of-type {\n",
       "        vertical-align: middle;\n",
       "    }\n",
       "\n",
       "    .dataframe tbody tr th {\n",
       "        vertical-align: top;\n",
       "    }\n",
       "\n",
       "    .dataframe thead th {\n",
       "        text-align: right;\n",
       "    }\n",
       "</style>\n",
       "<table border=\"1\" class=\"dataframe\">\n",
       "  <thead>\n",
       "    <tr style=\"text-align: right;\">\n",
       "      <th></th>\n",
       "      <th>question_id</th>\n",
       "      <th>bundle_id</th>\n",
       "      <th>part</th>\n",
       "      <th>q_quant</th>\n",
       "      <th>correct_quant</th>\n",
       "      <th>correct_percent</th>\n",
       "    </tr>\n",
       "  </thead>\n",
       "  <tbody>\n",
       "    <tr>\n",
       "      <th>count</th>\n",
       "      <td>13500.000000</td>\n",
       "      <td>13500.000000</td>\n",
       "      <td>13500.000000</td>\n",
       "      <td>13500.000000</td>\n",
       "      <td>13500.000000</td>\n",
       "      <td>13500.000000</td>\n",
       "    </tr>\n",
       "    <tr>\n",
       "      <th>mean</th>\n",
       "      <td>6760.953778</td>\n",
       "      <td>6760.465556</td>\n",
       "      <td>4.262296</td>\n",
       "      <td>726.266963</td>\n",
       "      <td>478.327778</td>\n",
       "      <td>0.712115</td>\n",
       "    </tr>\n",
       "    <tr>\n",
       "      <th>std</th>\n",
       "      <td>3905.579569</td>\n",
       "      <td>3905.539487</td>\n",
       "      <td>1.651777</td>\n",
       "      <td>1142.219033</td>\n",
       "      <td>642.560321</td>\n",
       "      <td>0.169706</td>\n",
       "    </tr>\n",
       "    <tr>\n",
       "      <th>min</th>\n",
       "      <td>0.000000</td>\n",
       "      <td>0.000000</td>\n",
       "      <td>1.000000</td>\n",
       "      <td>1.000000</td>\n",
       "      <td>0.000000</td>\n",
       "      <td>0.000000</td>\n",
       "    </tr>\n",
       "    <tr>\n",
       "      <th>25%</th>\n",
       "      <td>3377.750000</td>\n",
       "      <td>3377.250000</td>\n",
       "      <td>3.000000</td>\n",
       "      <td>173.000000</td>\n",
       "      <td>122.000000</td>\n",
       "      <td>0.608498</td>\n",
       "    </tr>\n",
       "    <tr>\n",
       "      <th>50%</th>\n",
       "      <td>6757.500000</td>\n",
       "      <td>6757.000000</td>\n",
       "      <td>5.000000</td>\n",
       "      <td>466.000000</td>\n",
       "      <td>317.000000</td>\n",
       "      <td>0.735702</td>\n",
       "    </tr>\n",
       "    <tr>\n",
       "      <th>75%</th>\n",
       "      <td>10147.250000</td>\n",
       "      <td>10145.000000</td>\n",
       "      <td>5.000000</td>\n",
       "      <td>849.000000</td>\n",
       "      <td>585.000000</td>\n",
       "      <td>0.840664</td>\n",
       "    </tr>\n",
       "    <tr>\n",
       "      <th>max</th>\n",
       "      <td>13522.000000</td>\n",
       "      <td>13522.000000</td>\n",
       "      <td>7.000000</td>\n",
       "      <td>21103.000000</td>\n",
       "      <td>14866.000000</td>\n",
       "      <td>1.000000</td>\n",
       "    </tr>\n",
       "  </tbody>\n",
       "</table>\n",
       "</div>"
      ],
      "text/plain": [
       "        question_id     bundle_id          part       q_quant  correct_quant  \\\n",
       "count  13500.000000  13500.000000  13500.000000  13500.000000   13500.000000   \n",
       "mean    6760.953778   6760.465556      4.262296    726.266963     478.327778   \n",
       "std     3905.579569   3905.539487      1.651777   1142.219033     642.560321   \n",
       "min        0.000000      0.000000      1.000000      1.000000       0.000000   \n",
       "25%     3377.750000   3377.250000      3.000000    173.000000     122.000000   \n",
       "50%     6757.500000   6757.000000      5.000000    466.000000     317.000000   \n",
       "75%    10147.250000  10145.000000      5.000000    849.000000     585.000000   \n",
       "max    13522.000000  13522.000000      7.000000  21103.000000   14866.000000   \n",
       "\n",
       "       correct_percent  \n",
       "count     13500.000000  \n",
       "mean          0.712115  \n",
       "std           0.169706  \n",
       "min           0.000000  \n",
       "25%           0.608498  \n",
       "50%           0.735702  \n",
       "75%           0.840664  \n",
       "max           1.000000  "
      ]
     },
     "execution_count": 59,
     "metadata": {},
     "output_type": "execute_result"
    }
   ],
   "source": [
    "# Добавим дополнительный столбец:\n",
    "# Процент правильных ответов\n",
    "\n",
    "questions['correct_percent'] = questions['correct_quant'] / questions['q_quant']\n",
    "questions.describe()"
   ]
  },
  {
   "cell_type": "code",
   "execution_count": 60,
   "id": "72bda2d2",
   "metadata": {},
   "outputs": [
    {
     "data": {
      "text/html": [
       "<div>\n",
       "<style scoped>\n",
       "    .dataframe tbody tr th:only-of-type {\n",
       "        vertical-align: middle;\n",
       "    }\n",
       "\n",
       "    .dataframe tbody tr th {\n",
       "        vertical-align: top;\n",
       "    }\n",
       "\n",
       "    .dataframe thead th {\n",
       "        text-align: right;\n",
       "    }\n",
       "</style>\n",
       "<table border=\"1\" class=\"dataframe\">\n",
       "  <thead>\n",
       "    <tr style=\"text-align: right;\">\n",
       "      <th></th>\n",
       "      <th>question_id</th>\n",
       "      <th>bundle_id</th>\n",
       "      <th>part</th>\n",
       "      <th>tags</th>\n",
       "      <th>q_quant</th>\n",
       "      <th>correct_quant</th>\n",
       "      <th>correct_percent</th>\n",
       "    </tr>\n",
       "  </thead>\n",
       "  <tbody>\n",
       "    <tr>\n",
       "      <th>0</th>\n",
       "      <td>0</td>\n",
       "      <td>0</td>\n",
       "      <td>1</td>\n",
       "      <td>51 131 162 38</td>\n",
       "      <td>691</td>\n",
       "      <td>628</td>\n",
       "      <td>0.908828</td>\n",
       "    </tr>\n",
       "    <tr>\n",
       "      <th>1</th>\n",
       "      <td>1</td>\n",
       "      <td>1</td>\n",
       "      <td>1</td>\n",
       "      <td>131 36 81</td>\n",
       "      <td>726</td>\n",
       "      <td>649</td>\n",
       "      <td>0.893939</td>\n",
       "    </tr>\n",
       "    <tr>\n",
       "      <th>2</th>\n",
       "      <td>2</td>\n",
       "      <td>2</td>\n",
       "      <td>1</td>\n",
       "      <td>131 101 162 92</td>\n",
       "      <td>4501</td>\n",
       "      <td>2531</td>\n",
       "      <td>0.562319</td>\n",
       "    </tr>\n",
       "    <tr>\n",
       "      <th>3</th>\n",
       "      <td>3</td>\n",
       "      <td>3</td>\n",
       "      <td>1</td>\n",
       "      <td>131 149 162 29</td>\n",
       "      <td>2276</td>\n",
       "      <td>1776</td>\n",
       "      <td>0.780316</td>\n",
       "    </tr>\n",
       "    <tr>\n",
       "      <th>4</th>\n",
       "      <td>4</td>\n",
       "      <td>4</td>\n",
       "      <td>1</td>\n",
       "      <td>131 5 162 38</td>\n",
       "      <td>3153</td>\n",
       "      <td>1980</td>\n",
       "      <td>0.627973</td>\n",
       "    </tr>\n",
       "    <tr>\n",
       "      <th>...</th>\n",
       "      <td>...</td>\n",
       "      <td>...</td>\n",
       "      <td>...</td>\n",
       "      <td>...</td>\n",
       "      <td>...</td>\n",
       "      <td>...</td>\n",
       "      <td>...</td>\n",
       "    </tr>\n",
       "    <tr>\n",
       "      <th>13495</th>\n",
       "      <td>13518</td>\n",
       "      <td>13518</td>\n",
       "      <td>5</td>\n",
       "      <td>14</td>\n",
       "      <td>86</td>\n",
       "      <td>68</td>\n",
       "      <td>0.790698</td>\n",
       "    </tr>\n",
       "    <tr>\n",
       "      <th>13496</th>\n",
       "      <td>13519</td>\n",
       "      <td>13519</td>\n",
       "      <td>5</td>\n",
       "      <td>8</td>\n",
       "      <td>86</td>\n",
       "      <td>50</td>\n",
       "      <td>0.581395</td>\n",
       "    </tr>\n",
       "    <tr>\n",
       "      <th>13497</th>\n",
       "      <td>13520</td>\n",
       "      <td>13520</td>\n",
       "      <td>5</td>\n",
       "      <td>73</td>\n",
       "      <td>82</td>\n",
       "      <td>56</td>\n",
       "      <td>0.682927</td>\n",
       "    </tr>\n",
       "    <tr>\n",
       "      <th>13498</th>\n",
       "      <td>13521</td>\n",
       "      <td>13521</td>\n",
       "      <td>5</td>\n",
       "      <td>125</td>\n",
       "      <td>87</td>\n",
       "      <td>68</td>\n",
       "      <td>0.781609</td>\n",
       "    </tr>\n",
       "    <tr>\n",
       "      <th>13499</th>\n",
       "      <td>13522</td>\n",
       "      <td>13522</td>\n",
       "      <td>5</td>\n",
       "      <td>55</td>\n",
       "      <td>86</td>\n",
       "      <td>77</td>\n",
       "      <td>0.895349</td>\n",
       "    </tr>\n",
       "  </tbody>\n",
       "</table>\n",
       "<p>13500 rows × 7 columns</p>\n",
       "</div>"
      ],
      "text/plain": [
       "       question_id  bundle_id  part            tags  q_quant  correct_quant  \\\n",
       "0                0          0     1   51 131 162 38      691            628   \n",
       "1                1          1     1       131 36 81      726            649   \n",
       "2                2          2     1  131 101 162 92     4501           2531   \n",
       "3                3          3     1  131 149 162 29     2276           1776   \n",
       "4                4          4     1    131 5 162 38     3153           1980   \n",
       "...            ...        ...   ...             ...      ...            ...   \n",
       "13495        13518      13518     5              14       86             68   \n",
       "13496        13519      13519     5               8       86             50   \n",
       "13497        13520      13520     5              73       82             56   \n",
       "13498        13521      13521     5             125       87             68   \n",
       "13499        13522      13522     5              55       86             77   \n",
       "\n",
       "       correct_percent  \n",
       "0             0.908828  \n",
       "1             0.893939  \n",
       "2             0.562319  \n",
       "3             0.780316  \n",
       "4             0.627973  \n",
       "...                ...  \n",
       "13495         0.790698  \n",
       "13496         0.581395  \n",
       "13497         0.682927  \n",
       "13498         0.781609  \n",
       "13499         0.895349  \n",
       "\n",
       "[13500 rows x 7 columns]"
      ]
     },
     "execution_count": 60,
     "metadata": {},
     "output_type": "execute_result"
    }
   ],
   "source": [
    "questions"
   ]
  },
  {
   "cell_type": "code",
   "execution_count": 61,
   "id": "0220b272",
   "metadata": {
    "scrolled": true
   },
   "outputs": [
    {
     "name": "stderr",
     "output_type": "stream",
     "text": [
      "/var/folders/m0/bln5llt92_x2w62sl09pg2wc0000gp/T/ipykernel_2419/3082401371.py:5: FutureWarning: The default value of numeric_only in DataFrameGroupBy.mean is deprecated. In a future version, numeric_only will default to False. Either specify numeric_only or select only columns which should be valid for the function.\n",
      "  questions.groupby('part').mean()['correct_percent'].sort_values()\n"
     ]
    },
    {
     "data": {
      "text/plain": [
       "part\n",
       "5    0.665941\n",
       "6    0.699149\n",
       "7    0.723305\n",
       "4    0.732642\n",
       "2    0.748136\n",
       "3    0.751740\n",
       "1    0.819349\n",
       "Name: correct_percent, dtype: float64"
      ]
     },
     "execution_count": 61,
     "metadata": {},
     "output_type": "execute_result"
    }
   ],
   "source": [
    "# Посмотрим дополнительные условия, от которых может зависеть успешность ответа на вопрос:\n",
    "# - от номера раздела в тесте TOEIC ('part')\n",
    "\n",
    "questions.groupby('part').mean()['correct_percent'].sort_values()\n",
    "\n",
    "# По мере продвижения по разделам, видимо, сложность курса возрастает. \n",
    "# 5й раздел содержит максимальное число леций и заданий, однако средняя успеваемость студентов\n",
    "# для него самая низкая."
   ]
  },
  {
   "cell_type": "code",
   "execution_count": 81,
   "id": "54bf53c5",
   "metadata": {},
   "outputs": [
    {
     "data": {
      "text/html": [
       "<div>\n",
       "<style scoped>\n",
       "    .dataframe tbody tr th:only-of-type {\n",
       "        vertical-align: middle;\n",
       "    }\n",
       "\n",
       "    .dataframe tbody tr th {\n",
       "        vertical-align: top;\n",
       "    }\n",
       "\n",
       "    .dataframe thead th {\n",
       "        text-align: right;\n",
       "    }\n",
       "</style>\n",
       "<table border=\"1\" class=\"dataframe\">\n",
       "  <thead>\n",
       "    <tr style=\"text-align: right;\">\n",
       "      <th></th>\n",
       "      <th>lecture_id</th>\n",
       "      <th>tag</th>\n",
       "      <th>part</th>\n",
       "      <th>l_quant</th>\n",
       "    </tr>\n",
       "  </thead>\n",
       "  <tbody>\n",
       "    <tr>\n",
       "      <th>count</th>\n",
       "      <td>402.000000</td>\n",
       "      <td>402.000000</td>\n",
       "      <td>402.000000</td>\n",
       "      <td>402.000000</td>\n",
       "    </tr>\n",
       "    <tr>\n",
       "      <th>mean</th>\n",
       "      <td>16956.480100</td>\n",
       "      <td>94.741294</td>\n",
       "      <td>4.201493</td>\n",
       "      <td>802.497512</td>\n",
       "    </tr>\n",
       "    <tr>\n",
       "      <th>std</th>\n",
       "      <td>9416.787393</td>\n",
       "      <td>53.133415</td>\n",
       "      <td>1.876936</td>\n",
       "      <td>1077.994893</td>\n",
       "    </tr>\n",
       "    <tr>\n",
       "      <th>min</th>\n",
       "      <td>89.000000</td>\n",
       "      <td>0.000000</td>\n",
       "      <td>1.000000</td>\n",
       "      <td>1.000000</td>\n",
       "    </tr>\n",
       "    <tr>\n",
       "      <th>25%</th>\n",
       "      <td>9183.500000</td>\n",
       "      <td>52.000000</td>\n",
       "      <td>2.000000</td>\n",
       "      <td>177.250000</td>\n",
       "    </tr>\n",
       "    <tr>\n",
       "      <th>50%</th>\n",
       "      <td>17020.000000</td>\n",
       "      <td>95.000000</td>\n",
       "      <td>5.000000</td>\n",
       "      <td>457.500000</td>\n",
       "    </tr>\n",
       "    <tr>\n",
       "      <th>75%</th>\n",
       "      <td>24906.250000</td>\n",
       "      <td>139.750000</td>\n",
       "      <td>5.750000</td>\n",
       "      <td>1077.500000</td>\n",
       "    </tr>\n",
       "    <tr>\n",
       "      <th>max</th>\n",
       "      <td>32736.000000</td>\n",
       "      <td>187.000000</td>\n",
       "      <td>7.000000</td>\n",
       "      <td>13548.000000</td>\n",
       "    </tr>\n",
       "  </tbody>\n",
       "</table>\n",
       "</div>"
      ],
      "text/plain": [
       "         lecture_id         tag        part       l_quant\n",
       "count    402.000000  402.000000  402.000000    402.000000\n",
       "mean   16956.480100   94.741294    4.201493    802.497512\n",
       "std     9416.787393   53.133415    1.876936   1077.994893\n",
       "min       89.000000    0.000000    1.000000      1.000000\n",
       "25%     9183.500000   52.000000    2.000000    177.250000\n",
       "50%    17020.000000   95.000000    5.000000    457.500000\n",
       "75%    24906.250000  139.750000    5.750000   1077.500000\n",
       "max    32736.000000  187.000000    7.000000  13548.000000"
      ]
     },
     "execution_count": 81,
     "metadata": {},
     "output_type": "execute_result"
    }
   ],
   "source": [
    "lectures.describe()"
   ]
  },
  {
   "cell_type": "code",
   "execution_count": 82,
   "id": "60adc300",
   "metadata": {},
   "outputs": [
    {
     "data": {
      "text/html": [
       "<div>\n",
       "<style scoped>\n",
       "    .dataframe tbody tr th:only-of-type {\n",
       "        vertical-align: middle;\n",
       "    }\n",
       "\n",
       "    .dataframe tbody tr th {\n",
       "        vertical-align: top;\n",
       "    }\n",
       "\n",
       "    .dataframe thead th {\n",
       "        text-align: right;\n",
       "    }\n",
       "</style>\n",
       "<table border=\"1\" class=\"dataframe\">\n",
       "  <thead>\n",
       "    <tr style=\"text-align: right;\">\n",
       "      <th></th>\n",
       "      <th>type_of</th>\n",
       "    </tr>\n",
       "  </thead>\n",
       "  <tbody>\n",
       "    <tr>\n",
       "      <th>count</th>\n",
       "      <td>402</td>\n",
       "    </tr>\n",
       "    <tr>\n",
       "      <th>unique</th>\n",
       "      <td>3</td>\n",
       "    </tr>\n",
       "    <tr>\n",
       "      <th>top</th>\n",
       "      <td>concept</td>\n",
       "    </tr>\n",
       "    <tr>\n",
       "      <th>freq</th>\n",
       "      <td>212</td>\n",
       "    </tr>\n",
       "  </tbody>\n",
       "</table>\n",
       "</div>"
      ],
      "text/plain": [
       "        type_of\n",
       "count       402\n",
       "unique        3\n",
       "top     concept\n",
       "freq        212"
      ]
     },
     "execution_count": 82,
     "metadata": {},
     "output_type": "execute_result"
    }
   ],
   "source": [
    "lectures.describe(include=['object'])"
   ]
  },
  {
   "cell_type": "code",
   "execution_count": null,
   "id": "c31c460a",
   "metadata": {},
   "outputs": [],
   "source": [
    "## Исследуем данные \"Лекции\"\n",
    "\n",
    "lectures.csv\n",
    "\n",
    "- lecture_id внешний ключ лекции - соответствует content_id\n",
    "- part: код темы/раздела 7 тем\n",
    "- tag: кодировка типа лекции, можно использовать для кластеризации лекций 151 тип\n",
    "- type_of: краткое описание цели леции: 'concept', 'solving question', 'intention', 'starter'"
   ]
  },
  {
   "cell_type": "code",
   "execution_count": 63,
   "id": "35a3c354",
   "metadata": {
    "scrolled": true
   },
   "outputs": [
    {
     "name": "stdout",
     "output_type": "stream",
     "text": [
      "<class 'pandas.core.frame.DataFrame'>\n",
      "RangeIndex: 418 entries, 0 to 417\n",
      "Data columns (total 4 columns):\n",
      " #   Column      Non-Null Count  Dtype \n",
      "---  ------      --------------  ----- \n",
      " 0   lecture_id  418 non-null    int16 \n",
      " 1   tag         418 non-null    int16 \n",
      " 2   part        418 non-null    int8  \n",
      " 3   type_of     418 non-null    object\n",
      "dtypes: int16(2), int8(1), object(1)\n",
      "memory usage: 5.4+ KB\n"
     ]
    }
   ],
   "source": [
    "lectures = pd.read_csv('data/lectures.csv', sep=',',\n",
    "                      dtype = {'lecture_id': 'int16', 'tag': 'int16', \n",
    "                               'part': 'int8', 'type_of': 'object'})\n",
    "lectures.info()"
   ]
  },
  {
   "cell_type": "code",
   "execution_count": 78,
   "id": "0b9b4988",
   "metadata": {
    "scrolled": true
   },
   "outputs": [
    {
     "data": {
      "text/html": [
       "<div>\n",
       "<style scoped>\n",
       "    .dataframe tbody tr th:only-of-type {\n",
       "        vertical-align: middle;\n",
       "    }\n",
       "\n",
       "    .dataframe tbody tr th {\n",
       "        vertical-align: top;\n",
       "    }\n",
       "\n",
       "    .dataframe thead th {\n",
       "        text-align: right;\n",
       "    }\n",
       "</style>\n",
       "<table border=\"1\" class=\"dataframe\">\n",
       "  <thead>\n",
       "    <tr style=\"text-align: right;\">\n",
       "      <th></th>\n",
       "      <th>lecture_id</th>\n",
       "      <th>tag</th>\n",
       "      <th>part</th>\n",
       "      <th>l_quant</th>\n",
       "    </tr>\n",
       "  </thead>\n",
       "  <tbody>\n",
       "    <tr>\n",
       "      <th>count</th>\n",
       "      <td>402.000000</td>\n",
       "      <td>402.000000</td>\n",
       "      <td>402.000000</td>\n",
       "      <td>402.000000</td>\n",
       "    </tr>\n",
       "    <tr>\n",
       "      <th>mean</th>\n",
       "      <td>16956.480100</td>\n",
       "      <td>94.741294</td>\n",
       "      <td>4.201493</td>\n",
       "      <td>802.497512</td>\n",
       "    </tr>\n",
       "    <tr>\n",
       "      <th>std</th>\n",
       "      <td>9416.787393</td>\n",
       "      <td>53.133415</td>\n",
       "      <td>1.876936</td>\n",
       "      <td>1077.994893</td>\n",
       "    </tr>\n",
       "    <tr>\n",
       "      <th>min</th>\n",
       "      <td>89.000000</td>\n",
       "      <td>0.000000</td>\n",
       "      <td>1.000000</td>\n",
       "      <td>1.000000</td>\n",
       "    </tr>\n",
       "    <tr>\n",
       "      <th>25%</th>\n",
       "      <td>9183.500000</td>\n",
       "      <td>52.000000</td>\n",
       "      <td>2.000000</td>\n",
       "      <td>177.250000</td>\n",
       "    </tr>\n",
       "    <tr>\n",
       "      <th>50%</th>\n",
       "      <td>17020.000000</td>\n",
       "      <td>95.000000</td>\n",
       "      <td>5.000000</td>\n",
       "      <td>457.500000</td>\n",
       "    </tr>\n",
       "    <tr>\n",
       "      <th>75%</th>\n",
       "      <td>24906.250000</td>\n",
       "      <td>139.750000</td>\n",
       "      <td>5.750000</td>\n",
       "      <td>1077.500000</td>\n",
       "    </tr>\n",
       "    <tr>\n",
       "      <th>max</th>\n",
       "      <td>32736.000000</td>\n",
       "      <td>187.000000</td>\n",
       "      <td>7.000000</td>\n",
       "      <td>13548.000000</td>\n",
       "    </tr>\n",
       "  </tbody>\n",
       "</table>\n",
       "</div>"
      ],
      "text/plain": [
       "         lecture_id         tag        part       l_quant\n",
       "count    402.000000  402.000000  402.000000    402.000000\n",
       "mean   16956.480100   94.741294    4.201493    802.497512\n",
       "std     9416.787393   53.133415    1.876936   1077.994893\n",
       "min       89.000000    0.000000    1.000000      1.000000\n",
       "25%     9183.500000   52.000000    2.000000    177.250000\n",
       "50%    17020.000000   95.000000    5.000000    457.500000\n",
       "75%    24906.250000  139.750000    5.750000   1077.500000\n",
       "max    32736.000000  187.000000    7.000000  13548.000000"
      ]
     },
     "execution_count": 78,
     "metadata": {},
     "output_type": "execute_result"
    }
   ],
   "source": [
    "lectures.describe()"
   ]
  },
  {
   "cell_type": "code",
   "execution_count": 80,
   "id": "13d5bf7b",
   "metadata": {},
   "outputs": [
    {
     "data": {
      "text/html": [
       "<div>\n",
       "<style scoped>\n",
       "    .dataframe tbody tr th:only-of-type {\n",
       "        vertical-align: middle;\n",
       "    }\n",
       "\n",
       "    .dataframe tbody tr th {\n",
       "        vertical-align: top;\n",
       "    }\n",
       "\n",
       "    .dataframe thead th {\n",
       "        text-align: right;\n",
       "    }\n",
       "</style>\n",
       "<table border=\"1\" class=\"dataframe\">\n",
       "  <thead>\n",
       "    <tr style=\"text-align: right;\">\n",
       "      <th></th>\n",
       "      <th>type_of</th>\n",
       "    </tr>\n",
       "  </thead>\n",
       "  <tbody>\n",
       "    <tr>\n",
       "      <th>count</th>\n",
       "      <td>402</td>\n",
       "    </tr>\n",
       "    <tr>\n",
       "      <th>unique</th>\n",
       "      <td>3</td>\n",
       "    </tr>\n",
       "    <tr>\n",
       "      <th>top</th>\n",
       "      <td>concept</td>\n",
       "    </tr>\n",
       "    <tr>\n",
       "      <th>freq</th>\n",
       "      <td>212</td>\n",
       "    </tr>\n",
       "  </tbody>\n",
       "</table>\n",
       "</div>"
      ],
      "text/plain": [
       "        type_of\n",
       "count       402\n",
       "unique        3\n",
       "top     concept\n",
       "freq        212"
      ]
     },
     "execution_count": 80,
     "metadata": {},
     "output_type": "execute_result"
    }
   ],
   "source": [
    "lectures.describe(include=['object'])"
   ]
  },
  {
   "cell_type": "code",
   "execution_count": 64,
   "id": "b71d65c9",
   "metadata": {},
   "outputs": [
    {
     "data": {
      "text/html": [
       "<div>\n",
       "<style scoped>\n",
       "    .dataframe tbody tr th:only-of-type {\n",
       "        vertical-align: middle;\n",
       "    }\n",
       "\n",
       "    .dataframe tbody tr th {\n",
       "        vertical-align: top;\n",
       "    }\n",
       "\n",
       "    .dataframe thead th {\n",
       "        text-align: right;\n",
       "    }\n",
       "</style>\n",
       "<table border=\"1\" class=\"dataframe\">\n",
       "  <thead>\n",
       "    <tr style=\"text-align: right;\">\n",
       "      <th></th>\n",
       "      <th>Column_Name</th>\n",
       "      <th>Num_Unique</th>\n",
       "      <th>Type</th>\n",
       "    </tr>\n",
       "  </thead>\n",
       "  <tbody>\n",
       "    <tr>\n",
       "      <th>0</th>\n",
       "      <td>type_of</td>\n",
       "      <td>4</td>\n",
       "      <td>object</td>\n",
       "    </tr>\n",
       "    <tr>\n",
       "      <th>1</th>\n",
       "      <td>part</td>\n",
       "      <td>7</td>\n",
       "      <td>int8</td>\n",
       "    </tr>\n",
       "    <tr>\n",
       "      <th>2</th>\n",
       "      <td>tag</td>\n",
       "      <td>151</td>\n",
       "      <td>int16</td>\n",
       "    </tr>\n",
       "    <tr>\n",
       "      <th>3</th>\n",
       "      <td>lecture_id</td>\n",
       "      <td>418</td>\n",
       "      <td>int16</td>\n",
       "    </tr>\n",
       "  </tbody>\n",
       "</table>\n",
       "</div>"
      ],
      "text/plain": [
       "  Column_Name  Num_Unique    Type\n",
       "0     type_of           4  object\n",
       "1        part           7    int8\n",
       "2         tag         151   int16\n",
       "3  lecture_id         418   int16"
      ]
     },
     "metadata": {},
     "output_type": "display_data"
    }
   ],
   "source": [
    "# Исследуем кол-во уникальных значений для разных колонок\n",
    "\n",
    "unique_list_lec = []\n",
    "for col in lectures.columns:\n",
    "    item = (col, lectures[col].nunique(), lectures[col].dtype)\n",
    "    unique_list_lec.append(item)\n",
    "unique_counts_lec = pd.DataFrame(unique_list_lec,\n",
    "                                 columns=['Column_Name', 'Num_Unique', 'Type']\n",
    "                                ).sort_values(by='Num_Unique',  ignore_index=True)\n",
    "display(unique_counts_lec)\n",
    "\n",
    "# Лекции разделены по темам на 7 разделов, больше всего лекций посвящено 5му разделу, затем 6, 2 и 1\n",
    "# С учетом данных по вопросам, можно прийти к заключению, что 5 раздел - самый насыщенный по материалу,\n",
    "# 6 и 1 - более теоретические, а 3 и 4 - более прикладные.\n",
    "# Леции бывают 4 типов: вступление, целеполагание, концептуальное изложение материала и решение задач.\n",
    "# Большинство лекций посвящены теории, немного меньше - решению задач. Доля остальных несущественна.\n",
    "# Есть 151 доп.тип лекций, по которым можно провести кластеризацию"
   ]
  },
  {
   "cell_type": "code",
   "execution_count": 65,
   "id": "f91d4591",
   "metadata": {},
   "outputs": [
    {
     "data": {
      "text/plain": [
       "136    7\n",
       "27     6\n",
       "161    6\n",
       "74     6\n",
       "134    6\n",
       "Name: tag, dtype: int64"
      ]
     },
     "execution_count": 65,
     "metadata": {},
     "output_type": "execute_result"
    }
   ],
   "source": [
    "lectures['part'].value_counts(normalize=True)\n",
    "lectures['type_of'].value_counts(normalize=True)\n",
    "lectures['tag'].value_counts().head()"
   ]
  },
  {
   "cell_type": "code",
   "execution_count": 66,
   "id": "82e901e9",
   "metadata": {},
   "outputs": [
    {
     "data": {
      "text/plain": [
       "402"
      ]
     },
     "execution_count": 66,
     "metadata": {},
     "output_type": "execute_result"
    }
   ],
   "source": [
    "# Создадим единую таблицу по их ID с данными Train.\n",
    "\n",
    "l_list = list(train[train['content_type_id'] == 1]['content_id'].unique())\n"
   ]
  },
  {
   "cell_type": "code",
   "execution_count": 74,
   "id": "e67ff1c4",
   "metadata": {},
   "outputs": [],
   "source": [
    "# Посчитаем количество просмотров лекций для каждого id\n",
    "\n",
    "l_quant = []\n",
    "for l in l_list:\n",
    "    tmp_l = train[(train['content_id'] == l)]['content_id'].count()\n",
    "    l_quant.append(tmp_l)"
   ]
  },
  {
   "cell_type": "code",
   "execution_count": 75,
   "id": "ab8f56b5",
   "metadata": {},
   "outputs": [],
   "source": [
    "# Запишем полученные данные в единую таблицу\n",
    "\n",
    "l_ex = pd.DataFrame({'lecture_id': l_list,\n",
    "                        'l_quant': l_quant\n",
    "                       }\n",
    "                      )\n",
    "l_ex = l_ex.astype({'lecture_id': 'int16', 'l_quant': 'int32'})"
   ]
  },
  {
   "cell_type": "code",
   "execution_count": 76,
   "id": "8069d280",
   "metadata": {},
   "outputs": [
    {
     "data": {
      "text/html": [
       "<div>\n",
       "<style scoped>\n",
       "    .dataframe tbody tr th:only-of-type {\n",
       "        vertical-align: middle;\n",
       "    }\n",
       "\n",
       "    .dataframe tbody tr th {\n",
       "        vertical-align: top;\n",
       "    }\n",
       "\n",
       "    .dataframe thead th {\n",
       "        text-align: right;\n",
       "    }\n",
       "</style>\n",
       "<table border=\"1\" class=\"dataframe\">\n",
       "  <thead>\n",
       "    <tr style=\"text-align: right;\">\n",
       "      <th></th>\n",
       "      <th>lecture_id</th>\n",
       "      <th>tag</th>\n",
       "      <th>part</th>\n",
       "      <th>type_of</th>\n",
       "      <th>l_quant</th>\n",
       "    </tr>\n",
       "  </thead>\n",
       "  <tbody>\n",
       "    <tr>\n",
       "      <th>0</th>\n",
       "      <td>89</td>\n",
       "      <td>159</td>\n",
       "      <td>5</td>\n",
       "      <td>concept</td>\n",
       "      <td>2437</td>\n",
       "    </tr>\n",
       "    <tr>\n",
       "      <th>1</th>\n",
       "      <td>100</td>\n",
       "      <td>70</td>\n",
       "      <td>1</td>\n",
       "      <td>concept</td>\n",
       "      <td>1794</td>\n",
       "    </tr>\n",
       "    <tr>\n",
       "      <th>2</th>\n",
       "      <td>185</td>\n",
       "      <td>45</td>\n",
       "      <td>6</td>\n",
       "      <td>concept</td>\n",
       "      <td>4701</td>\n",
       "    </tr>\n",
       "    <tr>\n",
       "      <th>3</th>\n",
       "      <td>192</td>\n",
       "      <td>79</td>\n",
       "      <td>5</td>\n",
       "      <td>solving question</td>\n",
       "      <td>1111</td>\n",
       "    </tr>\n",
       "    <tr>\n",
       "      <th>4</th>\n",
       "      <td>317</td>\n",
       "      <td>156</td>\n",
       "      <td>5</td>\n",
       "      <td>solving question</td>\n",
       "      <td>1067</td>\n",
       "    </tr>\n",
       "    <tr>\n",
       "      <th>...</th>\n",
       "      <td>...</td>\n",
       "      <td>...</td>\n",
       "      <td>...</td>\n",
       "      <td>...</td>\n",
       "      <td>...</td>\n",
       "    </tr>\n",
       "    <tr>\n",
       "      <th>397</th>\n",
       "      <td>32491</td>\n",
       "      <td>179</td>\n",
       "      <td>5</td>\n",
       "      <td>solving question</td>\n",
       "      <td>163</td>\n",
       "    </tr>\n",
       "    <tr>\n",
       "      <th>398</th>\n",
       "      <td>32535</td>\n",
       "      <td>8</td>\n",
       "      <td>5</td>\n",
       "      <td>solving question</td>\n",
       "      <td>348</td>\n",
       "    </tr>\n",
       "    <tr>\n",
       "      <th>399</th>\n",
       "      <td>32570</td>\n",
       "      <td>113</td>\n",
       "      <td>3</td>\n",
       "      <td>solving question</td>\n",
       "      <td>285</td>\n",
       "    </tr>\n",
       "    <tr>\n",
       "      <th>400</th>\n",
       "      <td>32625</td>\n",
       "      <td>142</td>\n",
       "      <td>2</td>\n",
       "      <td>concept</td>\n",
       "      <td>774</td>\n",
       "    </tr>\n",
       "    <tr>\n",
       "      <th>401</th>\n",
       "      <td>32736</td>\n",
       "      <td>82</td>\n",
       "      <td>3</td>\n",
       "      <td>concept</td>\n",
       "      <td>762</td>\n",
       "    </tr>\n",
       "  </tbody>\n",
       "</table>\n",
       "<p>402 rows × 5 columns</p>\n",
       "</div>"
      ],
      "text/plain": [
       "     lecture_id  tag  part           type_of  l_quant\n",
       "0            89  159     5           concept     2437\n",
       "1           100   70     1           concept     1794\n",
       "2           185   45     6           concept     4701\n",
       "3           192   79     5  solving question     1111\n",
       "4           317  156     5  solving question     1067\n",
       "..          ...  ...   ...               ...      ...\n",
       "397       32491  179     5  solving question      163\n",
       "398       32535    8     5  solving question      348\n",
       "399       32570  113     3  solving question      285\n",
       "400       32625  142     2           concept      774\n",
       "401       32736   82     3           concept      762\n",
       "\n",
       "[402 rows x 5 columns]"
      ]
     },
     "metadata": {},
     "output_type": "display_data"
    }
   ],
   "source": [
    "# Внесем полученные данные в таблицу lectures (пересечением)\n",
    "\n",
    "lectures = pd.merge(lectures, l_ex, how='inner')\n",
    "display(lectures)"
   ]
  },
  {
   "cell_type": "code",
   "execution_count": 70,
   "id": "fe45d3ad",
   "metadata": {},
   "outputs": [
    {
     "data": {
      "text/html": [
       "<div>\n",
       "<style scoped>\n",
       "    .dataframe tbody tr th:only-of-type {\n",
       "        vertical-align: middle;\n",
       "    }\n",
       "\n",
       "    .dataframe tbody tr th {\n",
       "        vertical-align: top;\n",
       "    }\n",
       "\n",
       "    .dataframe thead th {\n",
       "        text-align: right;\n",
       "    }\n",
       "</style>\n",
       "<table border=\"1\" class=\"dataframe\">\n",
       "  <thead>\n",
       "    <tr style=\"text-align: right;\">\n",
       "      <th></th>\n",
       "      <th>lecture_id</th>\n",
       "      <th>tag</th>\n",
       "      <th>part</th>\n",
       "      <th>type_of</th>\n",
       "      <th>l_quant</th>\n",
       "    </tr>\n",
       "  </thead>\n",
       "  <tbody>\n",
       "    <tr>\n",
       "      <th>121</th>\n",
       "      <td>10688</td>\n",
       "      <td>39</td>\n",
       "      <td>7</td>\n",
       "      <td>concept</td>\n",
       "      <td>13548</td>\n",
       "    </tr>\n",
       "    <tr>\n",
       "      <th>5</th>\n",
       "      <td>335</td>\n",
       "      <td>114</td>\n",
       "      <td>2</td>\n",
       "      <td>concept</td>\n",
       "      <td>5952</td>\n",
       "    </tr>\n",
       "    <tr>\n",
       "      <th>44</th>\n",
       "      <td>3852</td>\n",
       "      <td>161</td>\n",
       "      <td>4</td>\n",
       "      <td>solving question</td>\n",
       "      <td>5754</td>\n",
       "    </tr>\n",
       "    <tr>\n",
       "      <th>2</th>\n",
       "      <td>185</td>\n",
       "      <td>45</td>\n",
       "      <td>6</td>\n",
       "      <td>concept</td>\n",
       "      <td>4701</td>\n",
       "    </tr>\n",
       "    <tr>\n",
       "      <th>61</th>\n",
       "      <td>5694</td>\n",
       "      <td>140</td>\n",
       "      <td>2</td>\n",
       "      <td>concept</td>\n",
       "      <td>4468</td>\n",
       "    </tr>\n",
       "  </tbody>\n",
       "</table>\n",
       "</div>"
      ],
      "text/plain": [
       "     lecture_id  tag  part           type_of  l_quant\n",
       "121       10688   39     7           concept    13548\n",
       "5           335  114     2           concept     5952\n",
       "44         3852  161     4  solving question     5754\n",
       "2           185   45     6           concept     4701\n",
       "61         5694  140     2           concept     4468"
      ]
     },
     "execution_count": 70,
     "metadata": {},
     "output_type": "execute_result"
    }
   ],
   "source": [
    "# Общий рейтинг популярности для лекций\n",
    "\n",
    "lectures.sort_values(by=['l_quant'], ascending=False).head()"
   ]
  },
  {
   "cell_type": "code",
   "execution_count": 73,
   "id": "2b7d539a",
   "metadata": {},
   "outputs": [
    {
     "name": "stderr",
     "output_type": "stream",
     "text": [
      "/var/folders/m0/bln5llt92_x2w62sl09pg2wc0000gp/T/ipykernel_2419/1620134833.py:4: FutureWarning: The default value of numeric_only in DataFrameGroupBy.sum is deprecated. In a future version, numeric_only will default to False. Either specify numeric_only or select only columns which should be valid for the function.\n",
      "  lectures.groupby('tag').sum()['l_quant'].sort_values(ascending=False).head()\n"
     ]
    },
    {
     "data": {
      "text/plain": [
       "tag\n",
       "39     13548\n",
       "161     9147\n",
       "27      7995\n",
       "62      7900\n",
       "114     6803\n",
       "Name: l_quant, dtype: int32"
      ]
     },
     "execution_count": 73,
     "metadata": {},
     "output_type": "execute_result"
    }
   ],
   "source": [
    "# Рейтинг популярности для лекций, в зависимости от тега лекции\n",
    "lectures.groupby('tag').sum()['l_quant'].sort_values(ascending=False).head()"
   ]
  },
  {
   "cell_type": "markdown",
   "id": "ab32ee30",
   "metadata": {},
   "source": [
    "## Выводы:\n",
    "\n",
    "- Среднее время ответа около 25 секунд\n",
    "- Максимальное время ответа - 5 минут\n",
    "- 98% активновти студентов приходится на ответы на вопросы \n",
    "- Только 2% татится на просмотр лекций\n",
    "- 66% составляют правильные ответы, 34% - неправильные.\n",
    "- 0.658 - средний балл студента\n",
    "- Cреднее число отвеченных вопросов: 248\n",
    "- Среднее кол-во правильных ответов: 163\n",
    "- Среднее число просмотренных лекций: 5\n",
    "- Среднее число виденных объяснений: 224\n",
    "- Среднее время, затрачиваемое на вопрос: 25475\n",
    "- Среднее количество вопросов, приходящихся на одну лекцию - 50.18\n",
    "- чем ближе к началу сессии вопрос, тем менее успешно его проходят студенты орме)\n",
    "- Студенты, отвечающие правильно, тратят меньше времени на решение\n",
    "- Если студент видел объяснение предыдущий задачи, вероятность правильного ответа удваивается\n",
    "- Если пользователь думал над вопросом по времени больше среднего значения\n",
    "- Больше всего времени пользователи потратили на вопросы 4120, 7216, 7217\n",
    "- Самые популярные лекции 3151, 21441, 29695\n",
    "- Самые популярные вопросы на платформе 6116, 6173, 4120\n",
    "- Самые сложные вопросы на латформе 6116, 2063, 4120\n",
    "- На самый сложный вопрос учащиеся дали 72% неправильных ответов и 28% правильных\n",
    "- Около 82% ответов на самый легкий вопрос являются верными и 18 неверными\n",
    "- Часть вопросов объединены по bundle_id в блоки до 5 вопросов, хотя большинство представлены по одиночке\n",
    "- Лекции бывают 4 типов: вступление, целеполагание, концептуальное изложение материала и решение задач.\n",
    "- Задачи и лекции разделены по темам на 7 разделов\n",
    "- Большинство лекций посвящены теории, немного меньше - решению задач.\n",
    "- Наибольшее число просмотров имеет лекция из 7го раздела.\n",
    "- Самая высокая средневзвешенная популярность у лекций 2 раздела.\n",
    "- 5 раздел - самый насыщенный по материалу, 6 и 1 - более теоретические, а 3 и 4 - более прикладные.\n",
    "- По мере продвижения по разделам, видимо, сложность курса возрастает.\n",
    "- 5й раздел содержит максимальное число лекций и заданий, однако средняя успеваемость студентов для него самая низкая.\n",
    "- Успеваемость по 4му и 6му разделу, вероятно, можно улучшить, добавив в них качественные лекции, а по 7му разделу - добавив практические задания."
   ]
  }
 ],
 "metadata": {
  "kernelspec": {
   "display_name": "Python 3 (ipykernel)",
   "language": "python",
   "name": "python3"
  },
  "language_info": {
   "codemirror_mode": {
    "name": "ipython",
    "version": 3
   },
   "file_extension": ".py",
   "mimetype": "text/x-python",
   "name": "python",
   "nbconvert_exporter": "python",
   "pygments_lexer": "ipython3",
   "version": "3.9.6"
  }
 },
 "nbformat": 4,
 "nbformat_minor": 5
}
