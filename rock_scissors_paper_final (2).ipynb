{
  "cells": [
    {
      "cell_type": "code",
      "execution_count": null,
      "metadata": {
        "id": "MXXTuy_o0sjk"
      },
      "outputs": [],
      "source": [
        "!pip install -q -U kaggle_environments"
      ]
    },
    {
      "cell_type": "code",
      "execution_count": null,
      "metadata": {
        "id": "yz23vWHD0wcj"
      },
      "outputs": [],
      "source": [
        "import numpy as np\n",
        "import pandas as pd\n",
        "import random\n",
        "\n",
        "import matplotlib.pyplot as plt\n",
        "import seaborn as sns\n",
        "\n",
        "from kaggle_environments import make, evaluate"
      ]
    },
    {
      "cell_type": "code",
      "execution_count": null,
      "metadata": {
        "colab": {
          "base_uri": "https://localhost:8080/"
        },
        "id": "bqTqV7B92rJ6",
        "outputId": "b35e741c-2595-444a-8c4f-b611518c8964"
      },
      "outputs": [
        {
          "output_type": "stream",
          "name": "stdout",
          "text": [
            "Writing rock_agent.py\n"
          ]
        }
      ],
      "source": [
        "%%writefile rock_agent.py\n",
        "# 1 всегда камень\n",
        "def rock_agent(observation, configuration):\n",
        "    return 0"
      ]
    },
    {
      "cell_type": "code",
      "execution_count": null,
      "metadata": {
        "colab": {
          "base_uri": "https://localhost:8080/"
        },
        "id": "SVXfLwWGxtZN",
        "outputId": "7e5d9753-fd89-4fd1-fa03-fe2063ed7205"
      },
      "outputs": [
        {
          "output_type": "stream",
          "name": "stdout",
          "text": [
            "Writing paper_agent.py\n"
          ]
        }
      ],
      "source": [
        "%%writefile paper_agent.py\n",
        "# 2 всегда бумага\n",
        "def paper_agent(observation, configuration):\n",
        "    return 1"
      ]
    },
    {
      "cell_type": "code",
      "execution_count": null,
      "metadata": {
        "colab": {
          "base_uri": "https://localhost:8080/"
        },
        "id": "BBNCJZYmxw7q",
        "outputId": "a5c469a5-52ff-40cb-a8c8-f756817f3715"
      },
      "outputs": [
        {
          "output_type": "stream",
          "name": "stdout",
          "text": [
            "Writing scissors_agent.py\n"
          ]
        }
      ],
      "source": [
        "%%writefile scissors_agent.py\n",
        "# 3 всегда ножницы\n",
        "def scissors_agent(observation, configuration):\n",
        "    return 2"
      ]
    },
    {
      "cell_type": "code",
      "execution_count": null,
      "metadata": {
        "colab": {
          "base_uri": "https://localhost:8080/"
        },
        "id": "7l6Ttw6qi0jk",
        "outputId": "6942f66e-f294-4c2e-a1db-9dddcbfd7839"
      },
      "outputs": [
        {
          "output_type": "stream",
          "name": "stdout",
          "text": [
            "Writing copy_opponent_random.py\n"
          ]
        }
      ],
      "source": [
        "%%writefile copy_opponent_random.py\n",
        "# 4 повторяет действие оппонента, в первый ход ставит рандом\n",
        "def copy_opponent_random(observation, configuration):\n",
        "    import random\n",
        "    if observation.step > 0:\n",
        "        return observation.lastOpponentAction\n",
        "    else:\n",
        "        return random.randrange(0, configuration.signs)"
      ]
    },
    {
      "cell_type": "code",
      "execution_count": null,
      "metadata": {
        "colab": {
          "base_uri": "https://localhost:8080/"
        },
        "id": "gmCbV2hR6KSN",
        "outputId": "fd35d208-c550-4f11-fe17-2924b46f8093"
      },
      "outputs": [
        {
          "output_type": "stream",
          "name": "stdout",
          "text": [
            "Writing random012_opponent.py\n"
          ]
        }
      ],
      "source": [
        "%%writefile random012_opponent.py\n",
        "# 5 рандомно камень, ножницы или бумагу\n",
        "def random012_opponent(observation, configuration):\n",
        "    import random\n",
        "    return random.randrange(0, 3)"
      ]
    },
    {
      "cell_type": "code",
      "execution_count": null,
      "metadata": {
        "colab": {
          "base_uri": "https://localhost:8080/"
        },
        "id": "nK8AbIGH-mg3",
        "outputId": "5ed9524f-0185-425a-efd6-1e48fbee0405"
      },
      "outputs": [
        {
          "output_type": "stream",
          "name": "stdout",
          "text": [
            "Writing random01_opponent.py\n"
          ]
        }
      ],
      "source": [
        "%%writefile random01_opponent.py\n",
        "# 6 рандомно камень или бумагу\n",
        "def random01_opponent(observation, configuration):\n",
        "    import random\n",
        "    return random.randrange(0, 2)"
      ]
    },
    {
      "cell_type": "code",
      "execution_count": null,
      "metadata": {
        "colab": {
          "base_uri": "https://localhost:8080/"
        },
        "id": "qhkJ2i_2_cUZ",
        "outputId": "5e68d64a-b72f-4fad-f8ba-58d3ad43b905"
      },
      "outputs": [
        {
          "output_type": "stream",
          "name": "stdout",
          "text": [
            "Writing random02_opponent.py\n"
          ]
        }
      ],
      "source": [
        "%%writefile random02_opponent.py\n",
        "# 7 рандомно камень или ножницы\n",
        "def random02_opponent(observation, configuration):\n",
        "    import random\n",
        "    return random.randrange(0, 3, 2)"
      ]
    },
    {
      "cell_type": "code",
      "execution_count": null,
      "metadata": {
        "colab": {
          "base_uri": "https://localhost:8080/"
        },
        "id": "pG9zwDYaAB0x",
        "outputId": "393f91ab-2dda-41f3-df66-6c9a38ca8bc7"
      },
      "outputs": [
        {
          "output_type": "stream",
          "name": "stdout",
          "text": [
            "Writing random12_opponent.py\n"
          ]
        }
      ],
      "source": [
        "%%writefile random12_opponent.py\n",
        "# 8 рандомно бумагу или ножницы\n",
        "def random12_opponent(observation, configuration):\n",
        "    import random\n",
        "    return random.randrange(1, 3)"
      ]
    },
    {
      "cell_type": "code",
      "execution_count": null,
      "metadata": {
        "colab": {
          "base_uri": "https://localhost:8080/"
        },
        "id": "PdC8iakgJtNA",
        "outputId": "04c0e6ee-fb90-473b-a8bb-17d2403f7a86"
      },
      "outputs": [
        {
          "output_type": "stream",
          "name": "stdout",
          "text": [
            "Writing statistical.py\n"
          ]
        }
      ],
      "source": [
        "%%writefile statistical.py\n",
        "# 9 статистика\n",
        "action_histogram = {}\n",
        "def statistical(observation, configuration):\n",
        "    global action_histogram\n",
        "    if observation.step == 0:\n",
        "        action_histogram = {}\n",
        "        return\n",
        "    action = observation.lastOpponentAction\n",
        "    if action not in action_histogram:\n",
        "        action_histogram[action] = 0\n",
        "    action_histogram[action] += 1\n",
        "    mode_action = None\n",
        "    mode_action_count = None\n",
        "    for k, v in action_histogram.items():\n",
        "        if mode_action_count is None or v > mode_action_count:\n",
        "            mode_action = k\n",
        "            mode_action_count = v\n",
        "            continue\n",
        "\n",
        "    return (mode_action + 1) % configuration.signs"
      ]
    },
    {
      "cell_type": "code",
      "execution_count": null,
      "metadata": {
        "colab": {
          "base_uri": "https://localhost:8080/"
        },
        "id": "fz5SvoBc22ms",
        "outputId": "bc85a113-d8d6-4686-8af6-2798f9647eaf"
      },
      "outputs": [
        {
          "output_type": "stream",
          "name": "stdout",
          "text": [
            "Writing copy_opponent_0.py\n"
          ]
        }
      ],
      "source": [
        "%%writefile copy_opponent_0.py\n",
        "# 10 повторяет действие оппонента, в первый ход ставит 0\n",
        "def copy_opponent(observation, configuration):\n",
        "    import random\n",
        "    if observation.step > 0:\n",
        "        return observation.lastOpponentAction\n",
        "    else:\n",
        "        return 0"
      ]
    },
    {
      "cell_type": "code",
      "execution_count": null,
      "metadata": {
        "colab": {
          "base_uri": "https://localhost:8080/"
        },
        "id": "hfoTIa0Q22mt",
        "outputId": "13a667e6-5195-42ec-d700-cb906efbde7b"
      },
      "outputs": [
        {
          "output_type": "stream",
          "name": "stdout",
          "text": [
            "Writing copy_opponent_1.py\n"
          ]
        }
      ],
      "source": [
        "%%writefile copy_opponent_1.py\n",
        "# 11 повторяет действие оппонента, в первый ход ставит 1\n",
        "def copy_opponent(observation, configuration):\n",
        "    import random\n",
        "    if observation.step > 0:\n",
        "        return observation.lastOpponentAction\n",
        "    else:\n",
        "        return 1"
      ]
    },
    {
      "cell_type": "code",
      "execution_count": null,
      "metadata": {
        "colab": {
          "base_uri": "https://localhost:8080/"
        },
        "id": "0MX-PHBC22mv",
        "outputId": "6c6ffd7e-a0b6-497c-9120-a42ac3382229"
      },
      "outputs": [
        {
          "output_type": "stream",
          "name": "stdout",
          "text": [
            "Writing copy_opponent_2.py\n"
          ]
        }
      ],
      "source": [
        "%%writefile copy_opponent_2.py\n",
        "# 12 повторяет действие оппонента, в первый ход ставит 2\n",
        "def copy_opponent(observation, configuration):\n",
        "    import random\n",
        "    if observation.step > 0:\n",
        "        return observation.lastOpponentAction\n",
        "    else:\n",
        "        return 2"
      ]
    },
    {
      "cell_type": "markdown",
      "metadata": {
        "id": "ExgIpXUVjbjN"
      },
      "source": [
        "## Турнир"
      ]
    },
    {
      "cell_type": "markdown",
      "metadata": {
        "id": "KHzKXRI722nh"
      },
      "source": [
        "1 раунд\n",
        "\n",
        "Список участников:\n",
        "- rock_agent.py\n",
        "- paper_agent.py\n",
        "- scissors_agent.py\n",
        "- copy_opponent_random.py\n",
        "- random012_opponent.py\n",
        "- random01_opponent.py\n",
        "- random02_opponent.py\n",
        "- random12_opponent.py\n",
        "- statistical.py\n",
        "- copy_opponent_0.py\n",
        "- copy_opponent_1.py\n",
        "- copy_opponent_2.py"
      ]
    },
    {
      "cell_type": "code",
      "execution_count": null,
      "metadata": {
        "colab": {
          "base_uri": "https://localhost:8080/"
        },
        "id": "wv6Ip6M004xa",
        "outputId": "5ad51d20-2a5f-4072-d359-97c4e0e0a897"
      },
      "outputs": [
        {
          "output_type": "execute_result",
          "data": {
            "text/plain": [
              "[[-46.0, 46.0]]"
            ]
          },
          "metadata": {},
          "execution_count": 121
        }
      ],
      "source": [
        "evaluate(\n",
        "    \"rps\", \n",
        "    [\"rock_agent.py\", \"random01_opponent.py\"], \n",
        "    configuration={\"episodeSteps\": 100, \"tieRewardThreshold\":1} \n",
        ")"
      ]
    },
    {
      "cell_type": "code",
      "execution_count": null,
      "metadata": {
        "colab": {
          "base_uri": "https://localhost:8080/"
        },
        "id": "FC6_QWe9k3rr",
        "outputId": "f7354233-6841-4a1b-a09a-ea743b1695a6"
      },
      "outputs": [
        {
          "output_type": "execute_result",
          "data": {
            "text/plain": [
              "[[97.0, -97.0]]"
            ]
          },
          "metadata": {},
          "execution_count": 83
        }
      ],
      "source": [
        "evaluate(\n",
        "    \"rps\", \n",
        "    [\"statistical.py\", \"paper_agent.py\"], \n",
        "    configuration={\"episodeSteps\": 100, \"tieRewardThreshold\":1} \n",
        ")"
      ]
    },
    {
      "cell_type": "code",
      "execution_count": null,
      "metadata": {
        "colab": {
          "base_uri": "https://localhost:8080/"
        },
        "id": "9F3THGTfx5K_",
        "outputId": "0a4adb46-9981-4e85-d771-6251f54e9517"
      },
      "outputs": [
        {
          "output_type": "execute_result",
          "data": {
            "text/plain": [
              "[[53.0, -53.0]]"
            ]
          },
          "metadata": {},
          "execution_count": 85
        }
      ],
      "source": [
        "evaluate(\n",
        "    \"rps\", \n",
        "    [\"random02_opponent.py\", \"scissors_agent.py\"], \n",
        "    configuration={\"episodeSteps\": 100, \"tieRewardThreshold\":1} \n",
        ")\n"
      ]
    },
    {
      "cell_type": "code",
      "execution_count": null,
      "metadata": {
        "colab": {
          "base_uri": "https://localhost:8080/"
        },
        "id": "sYidk-id22nm",
        "outputId": "c5166b44-4037-497e-d999-eb2469d91161"
      },
      "outputs": [
        {
          "output_type": "execute_result",
          "data": {
            "text/plain": [
              "[[-1.0, 1.0]]"
            ]
          },
          "metadata": {},
          "execution_count": 106
        }
      ],
      "source": [
        "evaluate(\n",
        "    \"rps\", \n",
        "    [\"copy_opponent_1.py\", \"copy_opponent_2.py\"], \n",
        "    configuration={\"episodeSteps\": 100, \"tieRewardThreshold\":1} \n",
        ")\n"
      ]
    },
    {
      "cell_type": "code",
      "source": [
        "evaluate(\n",
        "    \"rps\", \n",
        "    [\"copy_opponent_0.py\", \"random012_opponent.py\"], \n",
        "    configuration={\"episodeSteps\": 100, \"tieRewardThreshold\":2}  \n",
        ")"
      ],
      "metadata": {
        "id": "BAJgiUPC8SWC",
        "colab": {
          "base_uri": "https://localhost:8080/"
        },
        "outputId": "54b5d283-c985-4ed2-941c-4296407a381c"
      },
      "execution_count": null,
      "outputs": [
        {
          "output_type": "execute_result",
          "data": {
            "text/plain": [
              "[[8.0, -8.0]]"
            ]
          },
          "metadata": {},
          "execution_count": 109
        }
      ]
    },
    {
      "cell_type": "code",
      "source": [
        "evaluate(\n",
        "    \"rps\", \n",
        "    [\"random12_opponent.py\", \"copy_opponent_random.py\"], \n",
        "    configuration={\"episodeSteps\": 100, \"tieRewardThreshold\":1} \n",
        ")"
      ],
      "metadata": {
        "colab": {
          "base_uri": "https://localhost:8080/"
        },
        "id": "6Ru37bl98b4s",
        "outputId": "889304c3-48f9-49e1-80ec-f619ffa78847"
      },
      "execution_count": null,
      "outputs": [
        {
          "output_type": "execute_result",
          "data": {
            "text/plain": [
              "[[-2.0, 2.0]]"
            ]
          },
          "metadata": {},
          "execution_count": 119
        }
      ]
    },
    {
      "cell_type": "code",
      "source": [],
      "metadata": {
        "id": "O_a7SZwwpDMK"
      },
      "execution_count": null,
      "outputs": []
    },
    {
      "cell_type": "markdown",
      "source": [
        "2 раунд\n",
        "\n",
        "Список участников:\n",
        "\n",
        "- copy_opponent_random.py\n",
        "- random01_opponent.py\n",
        "- random02_opponent.py\n",
        "- statistical.py\n",
        "- copy_opponent_0.py\n",
        "- copy_opponent_2.py"
      ],
      "metadata": {
        "id": "EhXkaP6xo_Mb"
      }
    },
    {
      "cell_type": "code",
      "source": [
        "evaluate(\n",
        "    \"rps\", \n",
        "    [\"copy_opponent_random.py\", \"random01_opponent.py\"], \n",
        "    configuration={\"episodeSteps\": 100, \"tieRewardThreshold\":1} \n",
        ")"
      ],
      "metadata": {
        "colab": {
          "base_uri": "https://localhost:8080/"
        },
        "id": "2StdgoqOoqs0",
        "outputId": "1393453a-bb4d-459d-f531-6792007576d6"
      },
      "execution_count": null,
      "outputs": [
        {
          "output_type": "execute_result",
          "data": {
            "text/plain": [
              "[[2.0, -2.0]]"
            ]
          },
          "metadata": {},
          "execution_count": 124
        }
      ]
    },
    {
      "cell_type": "code",
      "source": [
        "evaluate(\n",
        "    \"rps\", \n",
        "    [\"random02_opponent.py\", \"statistical.py\"], \n",
        "    configuration={\"episodeSteps\": 100, \"tieRewardThreshold\":1} \n",
        ")"
      ],
      "metadata": {
        "colab": {
          "base_uri": "https://localhost:8080/"
        },
        "id": "Q-TdU-xWpOi_",
        "outputId": "1e8e6ae7-716a-4060-9e34-cd0e7edb5c5c"
      },
      "execution_count": null,
      "outputs": [
        {
          "output_type": "execute_result",
          "data": {
            "text/plain": [
              "[[-3.0, 3.0]]"
            ]
          },
          "metadata": {},
          "execution_count": 125
        }
      ]
    },
    {
      "cell_type": "code",
      "source": [
        "evaluate(\n",
        "    \"rps\", \n",
        "    [\"copy_opponent_0.py\", \"copy_opponent_2.py\"], \n",
        "    configuration={\"episodeSteps\": 100, \"tieRewardThreshold\":1} \n",
        ")"
      ],
      "metadata": {
        "colab": {
          "base_uri": "https://localhost:8080/"
        },
        "id": "vkbCc5X-pYdO",
        "outputId": "00fce7e2-705a-4b3a-83b2-149e446cc65a"
      },
      "execution_count": null,
      "outputs": [
        {
          "output_type": "execute_result",
          "data": {
            "text/plain": [
              "[[1.0, -1.0]]"
            ]
          },
          "metadata": {},
          "execution_count": 126
        }
      ]
    },
    {
      "cell_type": "markdown",
      "source": [
        "3 раунд\n",
        "\n",
        "Список участников:\n",
        "\n",
        "- copy_opponent_random.py\n",
        "- statistical.py\n",
        "- copy_opponent_0.py\n"
      ],
      "metadata": {
        "id": "mA5Cswh5pldv"
      }
    },
    {
      "cell_type": "code",
      "source": [
        "evaluate(\n",
        "    \"rps\", \n",
        "    [\"copy_opponent_random.py\", \"statistical.py\"], \n",
        "    configuration={\"episodeSteps\": 100, \"tieRewardThreshold\":1} \n",
        ")"
      ],
      "metadata": {
        "colab": {
          "base_uri": "https://localhost:8080/"
        },
        "id": "W6_3ZkPMpu7Y",
        "outputId": "0ef7415d-dbde-48e0-9752-c6cdaba37279"
      },
      "execution_count": null,
      "outputs": [
        {
          "output_type": "execute_result",
          "data": {
            "text/plain": [
              "[[-21.0, 21.0]]"
            ]
          },
          "metadata": {},
          "execution_count": 127
        }
      ]
    },
    {
      "cell_type": "markdown",
      "source": [
        "4 раунд\n",
        "\n",
        "Список участников:\n",
        "\n",
        "- statistical.py\n",
        "- copy_opponent_0.py"
      ],
      "metadata": {
        "id": "kWapQqhtp70b"
      }
    },
    {
      "cell_type": "code",
      "source": [
        "evaluate(\n",
        "    \"rps\", \n",
        "    [\"statistical.py\", \"copy_opponent_0.py\"], \n",
        "    configuration={\"episodeSteps\": 100, \"tieRewardThreshold\":1} \n",
        ")"
      ],
      "metadata": {
        "colab": {
          "base_uri": "https://localhost:8080/"
        },
        "id": "ohCgMX-FqCCE",
        "outputId": "9b9e49cb-67d7-49c0-b2e6-2bf2b1ca8f0f"
      },
      "execution_count": null,
      "outputs": [
        {
          "output_type": "execute_result",
          "data": {
            "text/plain": [
              "[[20.0, -20.0]]"
            ]
          },
          "metadata": {},
          "execution_count": 128
        }
      ]
    },
    {
      "cell_type": "markdown",
      "source": [
        "Победитель statistical.py"
      ],
      "metadata": {
        "id": "mznsMPhEqKG9"
      }
    }
  ],
  "metadata": {
    "colab": {
      "collapsed_sections": [],
      "provenance": []
    },
    "kernelspec": {
      "display_name": "Python 3 (ipykernel)",
      "language": "python",
      "name": "python3"
    },
    "language_info": {
      "codemirror_mode": {
        "name": "ipython",
        "version": 3
      },
      "file_extension": ".py",
      "mimetype": "text/x-python",
      "name": "python",
      "nbconvert_exporter": "python",
      "pygments_lexer": "ipython3",
      "version": "3.10.5"
    }
  },
  "nbformat": 4,
  "nbformat_minor": 0
}